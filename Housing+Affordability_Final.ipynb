{
 "cells": [
  {
   "cell_type": "code",
   "execution_count": 1,
   "metadata": {},
   "outputs": [
    {
     "data": {
      "text/plain": [
       "[Row(Control=u'54288', SMSA=u'5000', METRO=u'7', BEDRMS=u'4', BUILT=u'2003', STATUS=u'1', TYPE=u'1', VALUE=u'90000', VACANCY=u'-6', TENURE=u'1', NUNITS=u'1', ROOMS=u'8', WGTMETRO=u'873.5319936', PER=u'5', ZINC2=u'53008', ZADEQ=u'1', ZSMHC=u'1906', AGE1=u'66', STRUCTURETYPE=u'1', OWNRENT=u'1', UTILITY=u'334.6666667', OTHERCOST=u'688.3333333', COST06=u'1621.135925', COST12=u'1968.676204', COST08=u'1729.849305', COSTMED=u'1545.915101', TOTSAL=u'37000', ASSISTED=u'-9', IPOV=u'29398', LMED=u'49000', L50=u'35316', L80=u'56484', FMR=u'1799', GLMED=u'49000', GL30=u'-9', L30=u'-9', GL50=u'35316', GL80=u'56484', APLMED=u'52920', ABL30=u'-9', ABL50=u'37932', ABL80=u'60668', ABLMED=u'56840', BURDEN=u'0.43148204', INCRELAMIPCT=u'100.1662887', INCRELAMICAT=u'4', INCRELPOVPCT=u'180.3115858', INCRELPOVCAT=u'3', INCRELFMRPCT=u'73.66314619', INCRELFMRCAT=u'2', COST06RELAMIPCT=u'114.0841608', COST06RELAMICAT=u'6', COST06RELPOVPCT=u'220.5777162', COST06RELPOVCAT=u'4', COST06RELFMRPCT=u'90.11316984', COST06RELFMRCAT=u'2', COST08RELAMIPCT=u'121.734645', COST08RELAMICAT=u'7', COST08RELPOVPCT=u'235.3696585', COST08RELPOVCAT=u'4', COST08RELFMRPCT=u'96.15615925', COST08RELFMRCAT=u'2', COST12RELAMIPCT=u'138.5416048', COST12RELAMICAT=u'7', COST12RELPOVPCT=u'267.8653247', COST12RELPOVCAT=u'4', COST12RELFMRPCT=u'109.4316956', COST12RELFMRCAT=u'3', COSTMedRELAMIPCT=u'108.7906475', COSTMedRELAMICAT=u'6', COSTMedRELPOVPCT=u'210.3428942', COSTMedRELPOVCAT=u'4', COSTMedRELFMRPCT=u'85.93191223', COSTMedRELFMRCAT=u'2', FMTZADEQ=u'1 Adequate', FMTMETRO3=u'7', FMTBUILT=u'2000-2009', FMTSTRUCTURETYPE=u'1 Single Family', FMTBEDRMS=u'4 4BR+', FMTOWNRENT=u'1 Owner', FMTCOST06RELPOVCAT=u'4 200%+ Poverty', FMTCOST08RELPOVCAT=u'4 200%+ Poverty', FMTCOST12RELPOVCAT=u'4 200%+ Poverty', FMTCOSTMEDRELPOVCAT=u'4 200%+ Poverty', FMTINCRELPOVCAT=u'3 150-200% Poverty', FMTCOST06RELFMRCAT=u'2 50.1 - 100% FMR', FMTCOST08RELFMRCAT=u'2 50.1 - 100% FMR', FMTCOST12RELFMRCAT=u'3 GT FMR', FMTCOSTMEDRELFMRCAT=u'2 50.1 - 100% FMR', FMTINCRELFMRCAT=u'2 50.1 - 100% FMR', FMTCOST06RELAMICAT=u'6 100 - 120% AMI', FMTCOST08RELAMICAT=u'7 120% AMI +', FMTCOST12RELAMICAT=u'7 120% AMI +', FMTCOSTMEDRELAMICAT=u'6 100 - 120% AMI', FMTINCRELAMICAT=u'4 60 - 80% AMI', FMTASSISTED=u'.', FMTBURDEN=u'2 30% to 50%', FMTSTATUS=u'-5'),\n",
       " Row(Control=u'54290', SMSA=u'5000', METRO=u'7', BEDRMS=u'2', BUILT=u'2003', STATUS=u'1', TYPE=u'1', VALUE=u'-6', VACANCY=u'-6', TENURE=u'2', NUNITS=u'4', ROOMS=u'4', WGTMETRO=u'761.1346172', PER=u'5', ZINC2=u'32988', ZADEQ=u'1', ZSMHC=u'1112', AGE1=u'39', STRUCTURETYPE=u'2', OWNRENT=u'2', UTILITY=u'180', OTHERCOST=u'0', COST06=u'1112', COST12=u'1112', COST08=u'1112', COSTMED=u'1112', TOTSAL=u'33000', ASSISTED=u'0', IPOV=u'29398', LMED=u'49000', L50=u'35316', L80=u'56484', FMR=u'1122', GLMED=u'49000', GL30=u'-9', L30=u'-9', GL50=u'35316', GL80=u'56484', APLMED=u'52920', ABL30=u'-9', ABL50=u'29430', ABL80=u'47070', ABLMED=u'44100', BURDEN=u'0.404510731', INCRELAMIPCT=u'62.33560091', INCRELAMICAT=u'2', INCRELPOVPCT=u'112.2117151', INCRELPOVCAT=u'2', INCRELFMRPCT=u'73.5026738', INCRELFMRCAT=u'2', COST06RELAMIPCT=u'100.861678', COST06RELAMICAT=u'4', COST06RELPOVPCT=u'151.3028097', COST06RELPOVCAT=u'3', COST06RELFMRPCT=u'99.1087344', COST06RELFMRCAT=u'2', COST08RELAMIPCT=u'100.861678', COST08RELAMICAT=u'4', COST08RELPOVPCT=u'151.3028097', COST08RELPOVCAT=u'3', COST08RELFMRPCT=u'99.1087344', COST08RELFMRCAT=u'2', COST12RELAMIPCT=u'100.861678', COST12RELAMICAT=u'4', COST12RELPOVPCT=u'151.3028097', COST12RELPOVCAT=u'3', COST12RELFMRPCT=u'99.1087344', COST12RELFMRCAT=u'2', COSTMedRELAMIPCT=u'100.861678', COSTMedRELAMICAT=u'4', COSTMedRELPOVPCT=u'151.3028097', COSTMedRELPOVCAT=u'3', COSTMedRELFMRPCT=u'99.1087344', COSTMedRELFMRCAT=u'2', FMTZADEQ=u'1 Adequate', FMTMETRO3=u'7', FMTBUILT=u'2000-2009', FMTSTRUCTURETYPE=u'2 2-4 units', FMTBEDRMS=u'2 2BR', FMTOWNRENT=u'2 Renter', FMTCOST06RELPOVCAT=u'3 150-200% Poverty', FMTCOST08RELPOVCAT=u'3 150-200% Poverty', FMTCOST12RELPOVCAT=u'3 150-200% Poverty', FMTCOSTMEDRELPOVCAT=u'3 150-200% Poverty', FMTINCRELPOVCAT=u'2 100-150% Poverty', FMTCOST06RELFMRCAT=u'2 50.1 - 100% FMR', FMTCOST08RELFMRCAT=u'2 50.1 - 100% FMR', FMTCOST12RELFMRCAT=u'2 50.1 - 100% FMR', FMTCOSTMEDRELFMRCAT=u'2 50.1 - 100% FMR', FMTINCRELFMRCAT=u'2 50.1 - 100% FMR', FMTCOST06RELAMICAT=u'4 60 - 80% AMI', FMTCOST08RELAMICAT=u'4 60 - 80% AMI', FMTCOST12RELAMICAT=u'4 60 - 80% AMI', FMTCOSTMEDRELAMICAT=u'4 60 - 80% AMI', FMTINCRELAMICAT=u'2 30 - 50% AMI', FMTASSISTED=u'0 Not Assisted', FMTBURDEN=u'2 30% to 50%', FMTSTATUS=u'-5'),\n",
       " Row(Control=u'54291', SMSA=u'5000', METRO=u'7', BEDRMS=u'2', BUILT=u'2007', STATUS=u'1', TYPE=u'1', VALUE=u'300000', VACANCY=u'-6', TENURE=u'1', NUNITS=u'1', ROOMS=u'5', WGTMETRO=u'867.9614236', PER=u'1', ZINC2=u'49997', ZADEQ=u'1', ZSMHC=u'2133', AGE1=u'44', STRUCTURETYPE=u'1', OWNRENT=u'1', UTILITY=u'116', OTHERCOST=u'0', COST06=u'2109.786418', COST12=u'3268.254012', COST08=u'2472.16435', COSTMED=u'1859.050337', TOTSAL=u'50000', ASSISTED=u'-9', IPOV=u'12119', LMED=u'49000', L50=u'22890', L80=u'36610', FMR=u'1122', GLMED=u'49000', GL30=u'-9', L30=u'-9', GL50=u'22890', GL80=u'36610', APLMED=u'34300', ABL30=u'-9', ABL50=u'29430', ABL80=u'47070', ABLMED=u'44100', BURDEN=u'0.511950717', INCRELAMIPCT=u'145.7638484', INCRELAMICAT=u'7', INCRELPOVPCT=u'412.5505405', INCRELPOVCAT=u'4', INCRELFMRPCT=u'111.4015152', INCRELFMRCAT=u'3', COST06RELAMIPCT=u'191.3638474', COST06RELAMICAT=u'7', COST06RELPOVPCT=u'696.356603', COST06RELPOVCAT=u'4', COST06RELFMRPCT=u'188.0380052', COST06RELFMRCAT=u'3', COST08RELAMIPCT=u'224.2325941', COST08RELAMICAT=u'7', COST08RELPOVPCT=u'815.9631486', COST08RELPOVCAT=u'4', COST08RELFMRPCT=u'220.3355035', COST08RELFMRCAT=u'3', COST12RELAMIPCT=u'296.4402732', COST12RELAMICAT=u'7', COST12RELPOVPCT=u'1078.72069', COST12RELPOVCAT=u'4', COST12RELFMRPCT=u'291.2882363', COST12RELFMRCAT=u'3', COSTMedRELAMIPCT=u'168.6213457', COSTMedRELAMICAT=u'7', COSTMedRELPOVPCT=u'613.5985928', COSTMedRELPOVCAT=u'4', COSTMedRELFMRPCT=u'165.6907608', COSTMedRELFMRCAT=u'3', FMTZADEQ=u'1 Adequate', FMTMETRO3=u'7', FMTBUILT=u'2000-2009', FMTSTRUCTURETYPE=u'1 Single Family', FMTBEDRMS=u'2 2BR', FMTOWNRENT=u'1 Owner', FMTCOST06RELPOVCAT=u'4 200%+ Poverty', FMTCOST08RELPOVCAT=u'4 200%+ Poverty', FMTCOST12RELPOVCAT=u'4 200%+ Poverty', FMTCOSTMEDRELPOVCAT=u'4 200%+ Poverty', FMTINCRELPOVCAT=u'4 200%+ Poverty', FMTCOST06RELFMRCAT=u'3 GT FMR', FMTCOST08RELFMRCAT=u'3 GT FMR', FMTCOST12RELFMRCAT=u'3 GT FMR', FMTCOSTMEDRELFMRCAT=u'3 GT FMR', FMTINCRELFMRCAT=u'3 GT FMR', FMTCOST06RELAMICAT=u'7 120% AMI +', FMTCOST08RELAMICAT=u'7 120% AMI +', FMTCOST12RELAMICAT=u'7 120% AMI +', FMTCOSTMEDRELAMICAT=u'7 120% AMI +', FMTINCRELAMICAT=u'7 120% AMI +', FMTASSISTED=u'.', FMTBURDEN=u'3 50% or More', FMTSTATUS=u'-5'),\n",
       " Row(Control=u'54295', SMSA=u'5000', METRO=u'7', BEDRMS=u'2', BUILT=u'2002', STATUS=u'1', TYPE=u'1', VALUE=u'-6', VACANCY=u'-6', TENURE=u'2', NUNITS=u'1', ROOMS=u'4', WGTMETRO=u'761.1346172', PER=u'4', ZINC2=u'54994', ZADEQ=u'2', ZSMHC=u'1411', AGE1=u'39', STRUCTURETYPE=u'1', OWNRENT=u'2', UTILITY=u'200.6666667', OTHERCOST=u'0', COST06=u'1411', COST12=u'1411', COST08=u'1411', COSTMED=u'1411', TOTSAL=u'55000', ASSISTED=u'0', IPOV=u'23624', LMED=u'49000', L50=u'32700', L80=u'52300', FMR=u'1122', GLMED=u'49000', GL30=u'-9', L30=u'-9', GL50=u'32700', GL80=u'52300', APLMED=u'49000', ABL30=u'-9', ABL50=u'29430', ABL80=u'47070', ABLMED=u'44100', BURDEN=u'0.307888133', INCRELAMIPCT=u'112.2326531', INCRELAMICAT=u'6', INCRELPOVPCT=u'232.7886895', INCRELPOVCAT=u'4', INCRELFMRPCT=u'122.5356506', INCRELFMRCAT=u'3', COST06RELAMIPCT=u'127.9818594', COST06RELAMICAT=u'7', COST06RELPOVPCT=u'238.9095835', COST06RELPOVCAT=u'4', COST06RELFMRPCT=u'125.7575758', COST06RELFMRCAT=u'3', COST08RELAMIPCT=u'127.9818594', COST08RELAMICAT=u'7', COST08RELPOVPCT=u'238.9095835', COST08RELPOVCAT=u'4', COST08RELFMRPCT=u'125.7575758', COST08RELFMRCAT=u'3', COST12RELAMIPCT=u'127.9818594', COST12RELAMICAT=u'7', COST12RELPOVPCT=u'238.9095835', COST12RELPOVCAT=u'4', COST12RELFMRPCT=u'125.7575758', COST12RELFMRCAT=u'3', COSTMedRELAMIPCT=u'127.9818594', COSTMedRELAMICAT=u'7', COSTMedRELPOVPCT=u'238.9095835', COSTMedRELPOVCAT=u'4', COSTMedRELFMRPCT=u'125.7575758', COSTMedRELFMRCAT=u'3', FMTZADEQ=u'2 Moderately Inadequ', FMTMETRO3=u'7', FMTBUILT=u'2000-2009', FMTSTRUCTURETYPE=u'1 Single Family', FMTBEDRMS=u'2 2BR', FMTOWNRENT=u'2 Renter', FMTCOST06RELPOVCAT=u'4 200%+ Poverty', FMTCOST08RELPOVCAT=u'4 200%+ Poverty', FMTCOST12RELPOVCAT=u'4 200%+ Poverty', FMTCOSTMEDRELPOVCAT=u'4 200%+ Poverty', FMTINCRELPOVCAT=u'4 200%+ Poverty', FMTCOST06RELFMRCAT=u'3 GT FMR', FMTCOST08RELFMRCAT=u'3 GT FMR', FMTCOST12RELFMRCAT=u'3 GT FMR', FMTCOSTMEDRELFMRCAT=u'3 GT FMR', FMTINCRELFMRCAT=u'3 GT FMR', FMTCOST06RELAMICAT=u'7 120% AMI +', FMTCOST08RELAMICAT=u'7 120% AMI +', FMTCOST12RELAMICAT=u'7 120% AMI +', FMTCOSTMEDRELAMICAT=u'7 120% AMI +', FMTINCRELAMICAT=u'6 100 - 120% AMI', FMTASSISTED=u'0 Not Assisted', FMTBURDEN=u'2 30% to 50%', FMTSTATUS=u'-5'),\n",
       " Row(Control=u'54296', SMSA=u'5000', METRO=u'7', BEDRMS=u'4', BUILT=u'2003', STATUS=u'1', TYPE=u'1', VALUE=u'300000', VACANCY=u'-6', TENURE=u'1', NUNITS=u'1', ROOMS=u'8', WGTMETRO=u'867.9614236', PER=u'4', ZINC2=u'100997', ZADEQ=u'1', ZSMHC=u'1204', AGE1=u'40', STRUCTURETYPE=u'1', OWNRENT=u'1', UTILITY=u'312.5', OTHERCOST=u'516.6666667', COST06=u'2822.953085', COST12=u'3981.420678', COST08=u'3185.331016', COSTMED=u'2572.217003', TOTSAL=u'100000', ASSISTED=u'-9', IPOV=u'23624', LMED=u'49000', L50=u'32700', L80=u'52300', FMR=u'1799', GLMED=u'49000', GL30=u'-9', L30=u'-9', GL50=u'32700', GL80=u'52300', APLMED=u'49000', ABL30=u'-9', ABL50=u'37932', ABL80=u'60668', ABLMED=u'56840', BURDEN=u'0.143053754', INCRELAMIPCT=u'206.1163265', INCRELAMICAT=u'7', INCRELPOVPCT=u'427.5186251', INCRELPOVCAT=u'4', INCRELFMRPCT=u'140.3515842', INCRELFMRCAT=u'3', COST06RELAMIPCT=u'198.6596119', COST06RELAMICAT=u'7', COST06RELPOVPCT=u'477.9805426', COST06RELPOVCAT=u'4', COST06RELFMRPCT=u'156.9179035', COST06RELFMRCAT=u'3', COST08RELAMIPCT=u'224.1612256', COST08RELAMICAT=u'7', COST08RELPOVPCT=u'539.3381335', COST08RELPOVCAT=u'4', COST08RELFMRPCT=u'177.0612016', COST08RELFMRCAT=u'3', COST12RELAMIPCT=u'280.1844249', COST12RELAMICAT=u'7', COST12RELPOVPCT=u'674.1315067', COST12RELPOVCAT=u'4', COST12RELFMRPCT=u'221.3129894', COST12RELFMRCAT=u'3', COSTMedRELAMIPCT=u'181.0145674', COSTMedRELAMICAT=u'7', COSTMedRELPOVPCT=u'435.5260757', COSTMedRELPOVCAT=u'4', COSTMedRELFMRPCT=u'142.9803782', COSTMedRELFMRCAT=u'3', FMTZADEQ=u'1 Adequate', FMTMETRO3=u'7', FMTBUILT=u'2000-2009', FMTSTRUCTURETYPE=u'1 Single Family', FMTBEDRMS=u'4 4BR+', FMTOWNRENT=u'1 Owner', FMTCOST06RELPOVCAT=u'4 200%+ Poverty', FMTCOST08RELPOVCAT=u'4 200%+ Poverty', FMTCOST12RELPOVCAT=u'4 200%+ Poverty', FMTCOSTMEDRELPOVCAT=u'4 200%+ Poverty', FMTINCRELPOVCAT=u'4 200%+ Poverty', FMTCOST06RELFMRCAT=u'3 GT FMR', FMTCOST08RELFMRCAT=u'3 GT FMR', FMTCOST12RELFMRCAT=u'3 GT FMR', FMTCOSTMEDRELFMRCAT=u'3 GT FMR', FMTINCRELFMRCAT=u'3 GT FMR', FMTCOST06RELAMICAT=u'7 120% AMI +', FMTCOST08RELAMICAT=u'7 120% AMI +', FMTCOST12RELAMICAT=u'7 120% AMI +', FMTCOSTMEDRELAMICAT=u'7 120% AMI +', FMTINCRELAMICAT=u'7 120% AMI +', FMTASSISTED=u'.', FMTBURDEN=u'1 Less than 30%', FMTSTATUS=u'-5')]"
      ]
     },
     "execution_count": 1,
     "metadata": {},
     "output_type": "execute_result"
    }
   ],
   "source": [
    "import ibmos2spark\n",
    "import pandas as pd\n",
    "import seaborn as sns\n",
    "from pyspark.sql import SQLContext\n",
    "import matplotlib.pyplot as plt\n",
    "from pyspark.sql.functions import col\n",
    "\n",
    "# @hidden_cell\n",
    "credentials = {\n",
    "    'auth_url': 'https://identity.open.softlayer.com',\n",
    "    'project_id': 'eaad5b904c0b410090057296f74a8784',\n",
    "    'region': 'dallas',\n",
    "    'user_id': '00c1437f11ad4e749e5f37df3fbc8ab9',\n",
    "    'username': 'member_3144209d6fbaea80f34b8f375a1a147239ad7e35',\n",
    "    'password': 'SK}b3(PaYbp2pq3,'\n",
    "}\n",
    "\n",
    "configuration_name = 'os_f34eb69ce46f45f6bb1d81aa6fd77e13_configs'\n",
    "bmos = ibmos2spark.bluemix(sc, credentials, configuration_name)\n",
    "\n",
    "from pyspark.sql import SparkSession\n",
    "spark = SparkSession.builder.getOrCreate()\n",
    "df_data_2 = spark.read\\\n",
    "  .format('org.apache.spark.sql.execution.datasources.csv.CSVFileFormat')\\\n",
    "  .option('header', 'true')\\\n",
    "  .load(bmos.url('DefaultProjectarpitasahasjsuedu', 'thads2013m.csv'))\n",
    "df_data_2.take(5)\n",
    "\n"
   ]
  },
  {
   "cell_type": "code",
   "execution_count": 2,
   "metadata": {},
   "outputs": [
    {
     "name": "stdout",
     "output_type": "stream",
     "text": [
      "+------------------+----+----+----------+---------------+\n",
      "|FMTCOST06RELAMICAT|SMSA|AGE1|Income_Cat| Percent_of_AMI|\n",
      "+------------------+----+----+----------+---------------+\n",
      "|  6 100 - 120% AMI|5000|  66|         6| 100 - 120% AMI|\n",
      "|    4 60 - 80% AMI|5000|  39|         4|   60 - 80% AMI|\n",
      "|      7 120% AMI +|5000|  44|         7|     120% AMI +|\n",
      "|      7 120% AMI +|5000|  39|         7|     120% AMI +|\n",
      "|      7 120% AMI +|5000|  40|         7|     120% AMI +|\n",
      "|    4 60 - 80% AMI|5000|  75|         4|   60 - 80% AMI|\n",
      "|    4 60 - 80% AMI|5000|  48|         4|   60 - 80% AMI|\n",
      "|      7 120% AMI +|5000|  -9|         7|     120% AMI +|\n",
      "|      7 120% AMI +|5000|  -9|         7|     120% AMI +|\n",
      "|      7 120% AMI +|5000|  53|         7|     120% AMI +|\n",
      "|      7 120% AMI +|5000|  26|         7|     120% AMI +|\n",
      "|      7 120% AMI +|5000|  36|         7|     120% AMI +|\n",
      "|      7 120% AMI +|5000|  61|         7|     120% AMI +|\n",
      "|      7 120% AMI +|5000|  42|         7|     120% AMI +|\n",
      "|      7 120% AMI +|5000|  49|         7|     120% AMI +|\n",
      "|      7 120% AMI +|5000|  51|         7|     120% AMI +|\n",
      "|      7 120% AMI +|5000|  27|         7|     120% AMI +|\n",
      "|  6 100 - 120% AMI|5000|  50|         6| 100 - 120% AMI|\n",
      "|  6 100 - 120% AMI|5000|  42|         6| 100 - 120% AMI|\n",
      "|    4 60 - 80% AMI|5000|  94|         4|   60 - 80% AMI|\n",
      "+------------------+----+----+----------+---------------+\n",
      "only showing top 20 rows\n",
      "\n"
     ]
    }
   ],
   "source": [
    "\n",
    "# The FMTCOST06RELAMCAT contains the cost of the house at 6 % interest relative to the Average Median Income (AMI). \n",
    "df_data = df_data_2.select(\"FMTCOST06RELAMICAT\", \"SMSA\", \"AGE1\")\n",
    "\n",
    "#The column is split since a numerical category and string with the percent AMI are in the same column in the original data. \n",
    "split_col = pyspark.sql.functions.split(df_data_2['FMTCOST06RELAMICAT'], ' ')\n",
    "\n",
    "df_data = df_data.withColumn('Income_Cat', split_col.getItem(0))\n",
    "\n",
    "str = df_data_2['FMTCOST06RELAMICAT']\n",
    "substring = pyspark.sql.functions.substring(str, 2, 100)\n",
    "\n",
    "df_data = df_data.withColumn('Percent_of_AMI', substring)\n",
    "\n",
    "\n",
    "df_data.show()\n",
    "\n"
   ]
  },
  {
   "cell_type": "code",
   "execution_count": 3,
   "metadata": {},
   "outputs": [
    {
     "name": "stdout",
     "output_type": "stream",
     "text": [
      "+------------------+----+----+----------+---------------+\n",
      "|FMTCOST06RELAMICAT|SMSA|AGE1|Income_Cat| Percent_of_AMI|\n",
      "+------------------+----+----+----------+---------------+\n",
      "|  6 100 - 120% AMI|5000|  66|         6| 100 - 120% AMI|\n",
      "|    4 60 - 80% AMI|5000|  39|         4|   60 - 80% AMI|\n",
      "|      7 120% AMI +|5000|  44|         7|     120% AMI +|\n",
      "|      7 120% AMI +|5000|  39|         7|     120% AMI +|\n",
      "|      7 120% AMI +|5000|  40|         7|     120% AMI +|\n",
      "|    4 60 - 80% AMI|5000|  75|         4|   60 - 80% AMI|\n",
      "|    4 60 - 80% AMI|5000|  48|         4|   60 - 80% AMI|\n",
      "|      7 120% AMI +|5000|  -9|         7|     120% AMI +|\n",
      "|      7 120% AMI +|5000|  -9|         7|     120% AMI +|\n",
      "|      7 120% AMI +|5000|  53|         7|     120% AMI +|\n",
      "|      7 120% AMI +|5000|  26|         7|     120% AMI +|\n",
      "|      7 120% AMI +|5000|  36|         7|     120% AMI +|\n",
      "|      7 120% AMI +|5000|  61|         7|     120% AMI +|\n",
      "|      7 120% AMI +|5000|  42|         7|     120% AMI +|\n",
      "|      7 120% AMI +|5000|  49|         7|     120% AMI +|\n",
      "|      7 120% AMI +|5000|  51|         7|     120% AMI +|\n",
      "|      7 120% AMI +|5000|  27|         7|     120% AMI +|\n",
      "|  6 100 - 120% AMI|5000|  50|         6| 100 - 120% AMI|\n",
      "|  6 100 - 120% AMI|5000|  42|         6| 100 - 120% AMI|\n",
      "|    4 60 - 80% AMI|5000|  94|         4|   60 - 80% AMI|\n",
      "+------------------+----+----+----------+---------------+\n",
      "only showing top 20 rows\n",
      "\n"
     ]
    }
   ],
   "source": [
    "# group the data by the SMSA (Standard Metropolitan Statistical Area)\n",
    "df_data.groupby(\"SMSA\")\n",
    "df_data.show()"
   ]
  },
  {
   "cell_type": "code",
   "execution_count": 4,
   "metadata": {},
   "outputs": [
    {
     "name": "stdout",
     "output_type": "stream",
     "text": [
      "+------------------+---------+----+----------+---------------+\n",
      "|FMTCOST06RELAMICAT|     SMSA|AGE1|Income_Cat| Percent_of_AMI|\n",
      "+------------------+---------+----+----------+---------------+\n",
      "|    4 60 - 80% AMI|    Miami|  39|         4|   60 - 80% AMI|\n",
      "|      7 120% AMI +|    Miami|  39|         7|     120% AMI +|\n",
      "|      7 120% AMI +|    Miami|  40|         7|     120% AMI +|\n",
      "|      7 120% AMI +|    Miami|  36|         7|     120% AMI +|\n",
      "|  6 100 - 120% AMI|    Miami|  37|         6| 100 - 120% AMI|\n",
      "|  6 100 - 120% AMI|    Miami|  33|         6| 100 - 120% AMI|\n",
      "|  6 100 - 120% AMI|    Miami|  38|         6| 100 - 120% AMI|\n",
      "|  6 100 - 120% AMI|    Miami|  32|         6| 100 - 120% AMI|\n",
      "|      7 120% AMI +|    Miami|  35|         7|     120% AMI +|\n",
      "|    4 60 - 80% AMI|    Miami|  36|         4|   60 - 80% AMI|\n",
      "|      7 120% AMI +|    Miami|  39|         7|     120% AMI +|\n",
      "|      7 120% AMI +|    Miami|  31|         7|     120% AMI +|\n",
      "|   5 80 - 100% AMI|Baltimore|  40|         5|  80 - 100% AMI|\n",
      "|  6 100 - 120% AMI|Baltimore|  36|         6| 100 - 120% AMI|\n",
      "|   5 80 - 100% AMI|Baltimore|  30|         5|  80 - 100% AMI|\n",
      "|  6 100 - 120% AMI|Baltimore|  33|         6| 100 - 120% AMI|\n",
      "|   5 80 - 100% AMI|Baltimore|  35|         5|  80 - 100% AMI|\n",
      "|      7 120% AMI +|Baltimore|  34|         7|     120% AMI +|\n",
      "|   5 80 - 100% AMI|Baltimore|  33|         5|  80 - 100% AMI|\n",
      "|   5 80 - 100% AMI|Baltimore|  40|         5|  80 - 100% AMI|\n",
      "+------------------+---------+----+----------+---------------+\n",
      "only showing top 20 rows\n",
      "\n"
     ]
    }
   ],
   "source": [
    "#filter the data between the age of 30 and 40\n",
    "filtered = df_data.where((col('AGE1') >= 30) & (col('AGE1') <= 40))\n",
    "\n",
    "#map the SMSA codes with city names\n",
    "filtered_1 = filtered.na.replace(['640', '720', '1120', '3280', '3360', '3600', '4120', '4520', '5000', '5120', '5360', '5880', '5960', '6760', '6840', '7240', '7600', '8280', '8520', '8840'], ['Austin', 'Baltimore', 'Boston', 'Hartford', 'Houston', \n",
    "                 'Jacksonville', 'Las Vegas', 'Louisville', 'Miami', 'Minneapolis', 'Nashville','Oklahoma City', 'Orlando' , 'Richmond', 'Rochester', 'San Antonio',                                                                                                                   \n",
    "                      'Seattle', 'Tampa', 'Tucson', 'Washington DC'], 'SMSA')\n",
    "    \n",
    "filtered_1.show()"
   ]
  },
  {
   "cell_type": "code",
   "execution_count": 5,
   "metadata": {},
   "outputs": [
    {
     "data": {
      "text/html": [
       "<div>\n",
       "<table border=\"1\" class=\"dataframe\">\n",
       "  <thead>\n",
       "    <tr style=\"text-align: right;\">\n",
       "      <th></th>\n",
       "      <th>FMTCOST06RELAMICAT</th>\n",
       "      <th>SMSA</th>\n",
       "      <th>AGE1</th>\n",
       "      <th>Income_Cat</th>\n",
       "      <th>Percent_of_AMI</th>\n",
       "    </tr>\n",
       "  </thead>\n",
       "  <tbody>\n",
       "    <tr>\n",
       "      <th>0</th>\n",
       "      <td>4 60 - 80% AMI</td>\n",
       "      <td>Miami</td>\n",
       "      <td>39</td>\n",
       "      <td>4</td>\n",
       "      <td>60 - 80% AMI</td>\n",
       "    </tr>\n",
       "    <tr>\n",
       "      <th>1</th>\n",
       "      <td>7 120% AMI +</td>\n",
       "      <td>Miami</td>\n",
       "      <td>39</td>\n",
       "      <td>7</td>\n",
       "      <td>120% AMI +</td>\n",
       "    </tr>\n",
       "    <tr>\n",
       "      <th>2</th>\n",
       "      <td>7 120% AMI +</td>\n",
       "      <td>Miami</td>\n",
       "      <td>40</td>\n",
       "      <td>7</td>\n",
       "      <td>120% AMI +</td>\n",
       "    </tr>\n",
       "    <tr>\n",
       "      <th>3</th>\n",
       "      <td>7 120% AMI +</td>\n",
       "      <td>Miami</td>\n",
       "      <td>36</td>\n",
       "      <td>7</td>\n",
       "      <td>120% AMI +</td>\n",
       "    </tr>\n",
       "    <tr>\n",
       "      <th>4</th>\n",
       "      <td>6 100 - 120% AMI</td>\n",
       "      <td>Miami</td>\n",
       "      <td>37</td>\n",
       "      <td>6</td>\n",
       "      <td>100 - 120% AMI</td>\n",
       "    </tr>\n",
       "  </tbody>\n",
       "</table>\n",
       "</div>"
      ],
      "text/plain": [
       "  FMTCOST06RELAMICAT   SMSA AGE1 Income_Cat   Percent_of_AMI\n",
       "0     4 60 - 80% AMI  Miami   39          4     60 - 80% AMI\n",
       "1       7 120% AMI +  Miami   39          7       120% AMI +\n",
       "2       7 120% AMI +  Miami   40          7       120% AMI +\n",
       "3       7 120% AMI +  Miami   36          7       120% AMI +\n",
       "4   6 100 - 120% AMI  Miami   37          6   100 - 120% AMI"
      ]
     },
     "execution_count": 5,
     "metadata": {},
     "output_type": "execute_result"
    }
   ],
   "source": [
    "# convert to Pandas\n",
    "df2 = filtered_1.toPandas()\n",
    "df2.head()"
   ]
  },
  {
   "cell_type": "code",
   "execution_count": 6,
   "metadata": {
    "scrolled": true
   },
   "outputs": [
    {
     "name": "stderr",
     "output_type": "stream",
     "text": [
      "/usr/local/src/bluemix_jupyter_bundle.v62/notebook/lib/python2.7/site-packages/ipykernel/__main__.py:1: FutureWarning: sort(columns=....) is deprecated, use sort_values(by=.....)\n",
      "  if __name__ == '__main__':\n"
     ]
    },
    {
     "data": {
      "image/png": "[encoded data removed]",
      "text/plain": [
       "<matplotlib.figure.Figure at 0x7f6a2e875650>"
      ]
     },
     "metadata": {},
     "output_type": "display_data"
    }
   ],
   "source": [
    "#ascending sort according to income category\n",
    "result = df2.sort('Income_Cat')\n",
    "#seaborn visualization\n",
    "g = sns.factorplot(x=\"Percent_of_AMI\", col=\"SMSA\",col_wrap = 4,\n",
    "                 data=result, kind=\"count\", \n",
    "                size = 4, aspect = 1 )\n",
    "\n",
    "g.set_xticklabels(rotation=30)\n",
    "plt.show()\n",
    "\n"
   ]
  },
  {
   "cell_type": "code",
   "execution_count": null,
   "metadata": {},
   "outputs": [],
   "source": [
    "# OBSERVATIONS FROM DATA\n",
    "# This visualization plots the count of homeowner income in each category:\n",
    "#30-50% Average Median Income, 60-80% AMI, 80-100% AMI, 100 -120%AMI, 120%AMI+ \n",
    "# From the data, we can see Oklahoma City and Rochester will be the least expensive cities to stay for 30-40 year olds.            \n",
    "# Miami and Boston are the most expensive cities to stay.\n"
   ]
  },
  {
   "cell_type": "code",
   "execution_count": null,
   "metadata": {},
   "outputs": [],
   "source": []
  },
  {
   "cell_type": "code",
   "execution_count": null,
   "metadata": {
    "collapsed": true
   },
   "outputs": [],
   "source": []
  },
  {
   "cell_type": "code",
   "execution_count": null,
   "metadata": {
    "collapsed": true
   },
   "outputs": [],
   "source": []
  },
  {
   "cell_type": "code",
   "execution_count": null,
   "metadata": {
    "collapsed": true
   },
   "outputs": [],
   "source": []
  },
  {
   "cell_type": "code",
   "execution_count": null,
   "metadata": {
    "collapsed": true
   },
   "outputs": [],
   "source": []
  },
  {
   "cell_type": "code",
   "execution_count": null,
   "metadata": {
    "collapsed": true
   },
   "outputs": [],
   "source": []
  },
  {
   "cell_type": "code",
   "execution_count": null,
   "metadata": {
    "collapsed": true
   },
   "outputs": [],
   "source": []
  },
  {
   "cell_type": "code",
   "execution_count": null,
   "metadata": {
    "collapsed": true
   },
   "outputs": [],
   "source": []
  },
  {
   "cell_type": "code",
   "execution_count": null,
   "metadata": {
    "collapsed": true
   },
   "outputs": [],
   "source": []
  },
  {
   "cell_type": "code",
   "execution_count": null,
   "metadata": {
    "collapsed": true
   },
   "outputs": [],
   "source": []
  },
  {
   "cell_type": "code",
   "execution_count": null,
   "metadata": {
    "collapsed": true
   },
   "outputs": [],
   "source": []
  },
  {
   "cell_type": "code",
   "execution_count": null,
   "metadata": {
    "collapsed": true
   },
   "outputs": [],
   "source": []
  },
  {
   "cell_type": "code",
   "execution_count": null,
   "metadata": {
    "collapsed": true
   },
   "outputs": [],
   "source": []
  },
  {
   "cell_type": "code",
   "execution_count": null,
   "metadata": {
    "collapsed": true
   },
   "outputs": [],
   "source": []
  },
  {
   "cell_type": "code",
   "execution_count": null,
   "metadata": {
    "collapsed": true
   },
   "outputs": [],
   "source": []
  },
  {
   "cell_type": "code",
   "execution_count": null,
   "metadata": {
    "collapsed": true
   },
   "outputs": [],
   "source": []
  },
  {
   "cell_type": "code",
   "execution_count": null,
   "metadata": {
    "collapsed": true
   },
   "outputs": [],
   "source": []
  },
  {
   "cell_type": "code",
   "execution_count": null,
   "metadata": {
    "collapsed": true
   },
   "outputs": [],
   "source": []
  },
  {
   "cell_type": "code",
   "execution_count": null,
   "metadata": {
    "collapsed": true
   },
   "outputs": [],
   "source": []
  },
  {
   "cell_type": "code",
   "execution_count": null,
   "metadata": {
    "collapsed": true
   },
   "outputs": [],
   "source": []
  },
  {
   "cell_type": "code",
   "execution_count": null,
   "metadata": {
    "collapsed": true
   },
   "outputs": [],
   "source": []
  },
  {
   "cell_type": "code",
   "execution_count": null,
   "metadata": {
    "collapsed": true
   },
   "outputs": [],
   "source": []
  },
  {
   "cell_type": "code",
   "execution_count": null,
   "metadata": {
    "collapsed": true
   },
   "outputs": [],
   "source": []
  },
  {
   "cell_type": "code",
   "execution_count": null,
   "metadata": {
    "collapsed": true
   },
   "outputs": [],
   "source": []
  },
  {
   "cell_type": "code",
   "execution_count": null,
   "metadata": {
    "collapsed": true
   },
   "outputs": [],
   "source": []
  },
  {
   "cell_type": "code",
   "execution_count": null,
   "metadata": {
    "collapsed": true
   },
   "outputs": [],
   "source": []
  },
  {
   "cell_type": "code",
   "execution_count": null,
   "metadata": {
    "collapsed": true
   },
   "outputs": [],
   "source": []
  },
  {
   "cell_type": "code",
   "execution_count": null,
   "metadata": {
    "collapsed": true
   },
   "outputs": [],
   "source": []
  },
  {
   "cell_type": "code",
   "execution_count": null,
   "metadata": {
    "collapsed": true
   },
   "outputs": [],
   "source": []
  },
  {
   "cell_type": "code",
   "execution_count": null,
   "metadata": {
    "collapsed": true
   },
   "outputs": [],
   "source": []
  },
  {
   "cell_type": "code",
   "execution_count": null,
   "metadata": {
    "collapsed": true
   },
   "outputs": [],
   "source": []
  },
  {
   "cell_type": "code",
   "execution_count": null,
   "metadata": {
    "collapsed": true
   },
   "outputs": [],
   "source": []
  },
  {
   "cell_type": "code",
   "execution_count": null,
   "metadata": {
    "collapsed": true
   },
   "outputs": [],
   "source": []
  },
  {
   "cell_type": "code",
   "execution_count": null,
   "metadata": {
    "collapsed": true
   },
   "outputs": [],
   "source": []
  },
  {
   "cell_type": "code",
   "execution_count": null,
   "metadata": {
    "collapsed": true
   },
   "outputs": [],
   "source": []
  },
  {
   "cell_type": "code",
   "execution_count": null,
   "metadata": {
    "collapsed": true
   },
   "outputs": [],
   "source": []
  },
  {
   "cell_type": "code",
   "execution_count": null,
   "metadata": {
    "collapsed": true
   },
   "outputs": [],
   "source": []
  },
  {
   "cell_type": "code",
   "execution_count": null,
   "metadata": {
    "collapsed": true
   },
   "outputs": [],
   "source": []
  },
  {
   "cell_type": "code",
   "execution_count": null,
   "metadata": {
    "collapsed": true
   },
   "outputs": [],
   "source": []
  },
  {
   "cell_type": "code",
   "execution_count": null,
   "metadata": {
    "collapsed": true
   },
   "outputs": [],
   "source": []
  },
  {
   "cell_type": "code",
   "execution_count": null,
   "metadata": {
    "collapsed": true
   },
   "outputs": [],
   "source": []
  },
  {
   "cell_type": "code",
   "execution_count": null,
   "metadata": {
    "collapsed": true
   },
   "outputs": [],
   "source": []
  },
  {
   "cell_type": "code",
   "execution_count": null,
   "metadata": {
    "collapsed": true
   },
   "outputs": [],
   "source": []
  },
  {
   "cell_type": "code",
   "execution_count": null,
   "metadata": {
    "collapsed": true
   },
   "outputs": [],
   "source": []
  },
  {
   "cell_type": "code",
   "execution_count": null,
   "metadata": {
    "collapsed": true
   },
   "outputs": [],
   "source": []
  },
  {
   "cell_type": "code",
   "execution_count": null,
   "metadata": {
    "collapsed": true
   },
   "outputs": [],
   "source": []
  },
  {
   "cell_type": "code",
   "execution_count": null,
   "metadata": {
    "collapsed": true
   },
   "outputs": [],
   "source": []
  },
  {
   "cell_type": "code",
   "execution_count": null,
   "metadata": {
    "collapsed": true
   },
   "outputs": [],
   "source": []
  },
  {
   "cell_type": "code",
   "execution_count": null,
   "metadata": {
    "collapsed": true
   },
   "outputs": [],
   "source": []
  },
  {
   "cell_type": "code",
   "execution_count": null,
   "metadata": {
    "collapsed": true
   },
   "outputs": [],
   "source": []
  },
  {
   "cell_type": "code",
   "execution_count": null,
   "metadata": {
    "collapsed": true
   },
   "outputs": [],
   "source": []
  },
  {
   "cell_type": "code",
   "execution_count": null,
   "metadata": {
    "collapsed": true
   },
   "outputs": [],
   "source": []
  },
  {
   "cell_type": "code",
   "execution_count": null,
   "metadata": {
    "collapsed": true
   },
   "outputs": [],
   "source": []
  }
 ],
 "metadata": {
  "kernelspec": {
   "display_name": "Python 2 with Spark 2.0",
   "language": "python",
   "name": "python2-spark20"
  },
  "language_info": {
   "codemirror_mode": {
    "name": "ipython",
    "version": 2
   },
   "file_extension": ".py",
   "mimetype": "text/x-python",
   "name": "python",
   "nbconvert_exporter": "python",
   "pygments_lexer": "ipython2",
   "version": "2.7.11"
  }
 },
 "nbformat": 4,
 "nbformat_minor": 1
}
