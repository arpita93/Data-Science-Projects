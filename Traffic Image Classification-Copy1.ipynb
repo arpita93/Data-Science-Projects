{
 "cells": [
  {
   "cell_type": "code",
   "execution_count": 1,
   "metadata": {
    "collapsed": true
   },
   "outputs": [],
   "source": [
    "import numpy as np\n",
    "import matplotlib.pyplot as plt\n",
    "import pandas as pd\n"
   ]
  },
  {
   "cell_type": "code",
   "execution_count": 2,
   "metadata": {
    "collapsed": true
   },
   "outputs": [],
   "source": [
    "train = np.loadtxt(\"train.dat\")"
   ]
  },
  {
   "cell_type": "code",
   "execution_count": 3,
   "metadata": {
    "collapsed": true
   },
   "outputs": [],
   "source": [
    "train_df = pd.DataFrame(train)"
   ]
  },
  {
   "cell_type": "code",
   "execution_count": 4,
   "metadata": {},
   "outputs": [
    {
     "data": {
      "text/html": [
       "<div>\n",
       "<style>\n",
       "    .dataframe thead tr:only-child th {\n",
       "        text-align: right;\n",
       "    }\n",
       "\n",
       "    .dataframe thead th {\n",
       "        text-align: left;\n",
       "    }\n",
       "\n",
       "    .dataframe tbody tr th {\n",
       "        vertical-align: top;\n",
       "    }\n",
       "</style>\n",
       "<table border=\"1\" class=\"dataframe\">\n",
       "  <thead>\n",
       "    <tr style=\"text-align: right;\">\n",
       "      <th></th>\n",
       "      <th>0</th>\n",
       "      <th>1</th>\n",
       "      <th>2</th>\n",
       "      <th>3</th>\n",
       "      <th>4</th>\n",
       "      <th>5</th>\n",
       "      <th>6</th>\n",
       "      <th>7</th>\n",
       "      <th>8</th>\n",
       "      <th>9</th>\n",
       "      <th>...</th>\n",
       "      <th>877</th>\n",
       "      <th>878</th>\n",
       "      <th>879</th>\n",
       "      <th>880</th>\n",
       "      <th>881</th>\n",
       "      <th>882</th>\n",
       "      <th>883</th>\n",
       "      <th>884</th>\n",
       "      <th>885</th>\n",
       "      <th>886</th>\n",
       "    </tr>\n",
       "  </thead>\n",
       "  <tbody>\n",
       "    <tr>\n",
       "      <th>0</th>\n",
       "      <td>10.177829</td>\n",
       "      <td>10.177829</td>\n",
       "      <td>10.177829</td>\n",
       "      <td>5.765479</td>\n",
       "      <td>10.177829</td>\n",
       "      <td>10.177829</td>\n",
       "      <td>4.982583</td>\n",
       "      <td>7.986466</td>\n",
       "      <td>0.480342</td>\n",
       "      <td>2.385175</td>\n",
       "      <td>...</td>\n",
       "      <td>0.002525</td>\n",
       "      <td>0.001105</td>\n",
       "      <td>0.018071</td>\n",
       "      <td>0.043203</td>\n",
       "      <td>0.202189</td>\n",
       "      <td>0.304724</td>\n",
       "      <td>0.630184</td>\n",
       "      <td>0.548963</td>\n",
       "      <td>0.638825</td>\n",
       "      <td>0.599078</td>\n",
       "    </tr>\n",
       "    <tr>\n",
       "      <th>1</th>\n",
       "      <td>10.177829</td>\n",
       "      <td>10.177829</td>\n",
       "      <td>10.177829</td>\n",
       "      <td>5.765479</td>\n",
       "      <td>10.177829</td>\n",
       "      <td>10.177829</td>\n",
       "      <td>4.982583</td>\n",
       "      <td>7.986466</td>\n",
       "      <td>0.480342</td>\n",
       "      <td>2.385175</td>\n",
       "      <td>...</td>\n",
       "      <td>0.001026</td>\n",
       "      <td>0.000000</td>\n",
       "      <td>0.018462</td>\n",
       "      <td>0.043203</td>\n",
       "      <td>0.202189</td>\n",
       "      <td>0.304724</td>\n",
       "      <td>0.630184</td>\n",
       "      <td>0.548963</td>\n",
       "      <td>0.638825</td>\n",
       "      <td>0.599078</td>\n",
       "    </tr>\n",
       "    <tr>\n",
       "      <th>2</th>\n",
       "      <td>10.177829</td>\n",
       "      <td>10.177829</td>\n",
       "      <td>10.177829</td>\n",
       "      <td>5.765479</td>\n",
       "      <td>10.177829</td>\n",
       "      <td>10.177829</td>\n",
       "      <td>4.982583</td>\n",
       "      <td>7.986466</td>\n",
       "      <td>0.480342</td>\n",
       "      <td>2.385175</td>\n",
       "      <td>...</td>\n",
       "      <td>0.011023</td>\n",
       "      <td>0.006921</td>\n",
       "      <td>0.053320</td>\n",
       "      <td>0.043203</td>\n",
       "      <td>0.202189</td>\n",
       "      <td>0.304724</td>\n",
       "      <td>0.630184</td>\n",
       "      <td>0.548963</td>\n",
       "      <td>0.638825</td>\n",
       "      <td>0.599078</td>\n",
       "    </tr>\n",
       "    <tr>\n",
       "      <th>3</th>\n",
       "      <td>10.177829</td>\n",
       "      <td>10.177829</td>\n",
       "      <td>10.177829</td>\n",
       "      <td>5.765479</td>\n",
       "      <td>10.177829</td>\n",
       "      <td>10.177829</td>\n",
       "      <td>4.982583</td>\n",
       "      <td>7.986466</td>\n",
       "      <td>0.480342</td>\n",
       "      <td>2.385175</td>\n",
       "      <td>...</td>\n",
       "      <td>0.000000</td>\n",
       "      <td>0.000919</td>\n",
       "      <td>0.030331</td>\n",
       "      <td>0.043203</td>\n",
       "      <td>0.202189</td>\n",
       "      <td>0.304724</td>\n",
       "      <td>0.630184</td>\n",
       "      <td>0.548963</td>\n",
       "      <td>0.638825</td>\n",
       "      <td>0.599078</td>\n",
       "    </tr>\n",
       "    <tr>\n",
       "      <th>4</th>\n",
       "      <td>10.177829</td>\n",
       "      <td>10.177829</td>\n",
       "      <td>10.177829</td>\n",
       "      <td>5.765479</td>\n",
       "      <td>10.177829</td>\n",
       "      <td>10.177829</td>\n",
       "      <td>4.982583</td>\n",
       "      <td>7.986466</td>\n",
       "      <td>0.480342</td>\n",
       "      <td>2.385175</td>\n",
       "      <td>...</td>\n",
       "      <td>0.003866</td>\n",
       "      <td>0.001074</td>\n",
       "      <td>0.025558</td>\n",
       "      <td>0.043203</td>\n",
       "      <td>0.202189</td>\n",
       "      <td>0.304724</td>\n",
       "      <td>0.630184</td>\n",
       "      <td>0.548963</td>\n",
       "      <td>0.638825</td>\n",
       "      <td>0.599078</td>\n",
       "    </tr>\n",
       "  </tbody>\n",
       "</table>\n",
       "<p>5 rows × 887 columns</p>\n",
       "</div>"
      ],
      "text/plain": [
       "         0          1          2         3          4          5         6    \\\n",
       "0  10.177829  10.177829  10.177829  5.765479  10.177829  10.177829  4.982583   \n",
       "1  10.177829  10.177829  10.177829  5.765479  10.177829  10.177829  4.982583   \n",
       "2  10.177829  10.177829  10.177829  5.765479  10.177829  10.177829  4.982583   \n",
       "3  10.177829  10.177829  10.177829  5.765479  10.177829  10.177829  4.982583   \n",
       "4  10.177829  10.177829  10.177829  5.765479  10.177829  10.177829  4.982583   \n",
       "\n",
       "        7         8         9      ...          877       878       879  \\\n",
       "0  7.986466  0.480342  2.385175    ...     0.002525  0.001105  0.018071   \n",
       "1  7.986466  0.480342  2.385175    ...     0.001026  0.000000  0.018462   \n",
       "2  7.986466  0.480342  2.385175    ...     0.011023  0.006921  0.053320   \n",
       "3  7.986466  0.480342  2.385175    ...     0.000000  0.000919  0.030331   \n",
       "4  7.986466  0.480342  2.385175    ...     0.003866  0.001074  0.025558   \n",
       "\n",
       "        880       881       882       883       884       885       886  \n",
       "0  0.043203  0.202189  0.304724  0.630184  0.548963  0.638825  0.599078  \n",
       "1  0.043203  0.202189  0.304724  0.630184  0.548963  0.638825  0.599078  \n",
       "2  0.043203  0.202189  0.304724  0.630184  0.548963  0.638825  0.599078  \n",
       "3  0.043203  0.202189  0.304724  0.630184  0.548963  0.638825  0.599078  \n",
       "4  0.043203  0.202189  0.304724  0.630184  0.548963  0.638825  0.599078  \n",
       "\n",
       "[5 rows x 887 columns]"
      ]
     },
     "execution_count": 4,
     "metadata": {},
     "output_type": "execute_result"
    }
   ],
   "source": [
    "train_df.head()\n"
   ]
  },
  {
   "cell_type": "code",
   "execution_count": 5,
   "metadata": {
    "collapsed": true
   },
   "outputs": [],
   "source": [
    "y = np.loadtxt(\"train.labels\")"
   ]
  },
  {
   "cell_type": "code",
   "execution_count": 6,
   "metadata": {
    "collapsed": true
   },
   "outputs": [],
   "source": [
    "test = np.loadtxt(\"test.dat\")"
   ]
  },
  {
   "cell_type": "code",
   "execution_count": 7,
   "metadata": {
    "collapsed": true
   },
   "outputs": [],
   "source": [
    "test_df = pd.DataFrame(test)"
   ]
  },
  {
   "cell_type": "code",
   "execution_count": 8,
   "metadata": {},
   "outputs": [
    {
     "data": {
      "text/html": [
       "<div>\n",
       "<style>\n",
       "    .dataframe thead tr:only-child th {\n",
       "        text-align: right;\n",
       "    }\n",
       "\n",
       "    .dataframe thead th {\n",
       "        text-align: left;\n",
       "    }\n",
       "\n",
       "    .dataframe tbody tr th {\n",
       "        vertical-align: top;\n",
       "    }\n",
       "</style>\n",
       "<table border=\"1\" class=\"dataframe\">\n",
       "  <thead>\n",
       "    <tr style=\"text-align: right;\">\n",
       "      <th></th>\n",
       "      <th>0</th>\n",
       "      <th>1</th>\n",
       "      <th>2</th>\n",
       "      <th>3</th>\n",
       "      <th>4</th>\n",
       "      <th>5</th>\n",
       "      <th>6</th>\n",
       "      <th>7</th>\n",
       "      <th>8</th>\n",
       "      <th>9</th>\n",
       "      <th>...</th>\n",
       "      <th>877</th>\n",
       "      <th>878</th>\n",
       "      <th>879</th>\n",
       "      <th>880</th>\n",
       "      <th>881</th>\n",
       "      <th>882</th>\n",
       "      <th>883</th>\n",
       "      <th>884</th>\n",
       "      <th>885</th>\n",
       "      <th>886</th>\n",
       "    </tr>\n",
       "  </thead>\n",
       "  <tbody>\n",
       "    <tr>\n",
       "      <th>0</th>\n",
       "      <td>10.177829</td>\n",
       "      <td>10.177829</td>\n",
       "      <td>10.177829</td>\n",
       "      <td>5.765479</td>\n",
       "      <td>10.177829</td>\n",
       "      <td>10.177829</td>\n",
       "      <td>4.982583</td>\n",
       "      <td>7.986466</td>\n",
       "      <td>0.480342</td>\n",
       "      <td>2.385175</td>\n",
       "      <td>...</td>\n",
       "      <td>0.002389</td>\n",
       "      <td>0.000000</td>\n",
       "      <td>0.014337</td>\n",
       "      <td>0.043203</td>\n",
       "      <td>0.202189</td>\n",
       "      <td>0.304724</td>\n",
       "      <td>0.630184</td>\n",
       "      <td>0.548963</td>\n",
       "      <td>0.638825</td>\n",
       "      <td>0.599078</td>\n",
       "    </tr>\n",
       "    <tr>\n",
       "      <th>1</th>\n",
       "      <td>10.177829</td>\n",
       "      <td>10.177829</td>\n",
       "      <td>10.177829</td>\n",
       "      <td>5.765479</td>\n",
       "      <td>10.177829</td>\n",
       "      <td>10.177829</td>\n",
       "      <td>4.982583</td>\n",
       "      <td>7.986466</td>\n",
       "      <td>0.480342</td>\n",
       "      <td>2.385175</td>\n",
       "      <td>...</td>\n",
       "      <td>0.013605</td>\n",
       "      <td>0.005102</td>\n",
       "      <td>0.040816</td>\n",
       "      <td>0.043203</td>\n",
       "      <td>0.202189</td>\n",
       "      <td>0.304724</td>\n",
       "      <td>0.630184</td>\n",
       "      <td>0.548963</td>\n",
       "      <td>0.638825</td>\n",
       "      <td>0.599078</td>\n",
       "    </tr>\n",
       "    <tr>\n",
       "      <th>2</th>\n",
       "      <td>10.177829</td>\n",
       "      <td>10.177829</td>\n",
       "      <td>10.177829</td>\n",
       "      <td>5.765479</td>\n",
       "      <td>10.177829</td>\n",
       "      <td>10.177829</td>\n",
       "      <td>4.982583</td>\n",
       "      <td>7.986466</td>\n",
       "      <td>0.480342</td>\n",
       "      <td>2.385175</td>\n",
       "      <td>...</td>\n",
       "      <td>0.009097</td>\n",
       "      <td>0.004392</td>\n",
       "      <td>0.029676</td>\n",
       "      <td>0.043203</td>\n",
       "      <td>0.202189</td>\n",
       "      <td>0.304724</td>\n",
       "      <td>0.630184</td>\n",
       "      <td>0.548963</td>\n",
       "      <td>0.638825</td>\n",
       "      <td>0.599078</td>\n",
       "    </tr>\n",
       "    <tr>\n",
       "      <th>3</th>\n",
       "      <td>10.177829</td>\n",
       "      <td>10.177829</td>\n",
       "      <td>10.177829</td>\n",
       "      <td>5.765479</td>\n",
       "      <td>10.177829</td>\n",
       "      <td>10.177829</td>\n",
       "      <td>4.982583</td>\n",
       "      <td>7.986466</td>\n",
       "      <td>0.480342</td>\n",
       "      <td>2.385175</td>\n",
       "      <td>...</td>\n",
       "      <td>0.037037</td>\n",
       "      <td>0.017315</td>\n",
       "      <td>0.034907</td>\n",
       "      <td>0.043203</td>\n",
       "      <td>0.202189</td>\n",
       "      <td>0.304724</td>\n",
       "      <td>0.630184</td>\n",
       "      <td>0.548963</td>\n",
       "      <td>0.638825</td>\n",
       "      <td>0.599078</td>\n",
       "    </tr>\n",
       "    <tr>\n",
       "      <th>4</th>\n",
       "      <td>10.177829</td>\n",
       "      <td>10.177829</td>\n",
       "      <td>10.177829</td>\n",
       "      <td>5.765479</td>\n",
       "      <td>10.177829</td>\n",
       "      <td>10.177829</td>\n",
       "      <td>4.982583</td>\n",
       "      <td>7.986466</td>\n",
       "      <td>0.480342</td>\n",
       "      <td>2.385175</td>\n",
       "      <td>...</td>\n",
       "      <td>0.005093</td>\n",
       "      <td>0.004167</td>\n",
       "      <td>0.021296</td>\n",
       "      <td>0.043203</td>\n",
       "      <td>0.202189</td>\n",
       "      <td>0.304724</td>\n",
       "      <td>0.630184</td>\n",
       "      <td>0.548963</td>\n",
       "      <td>0.638825</td>\n",
       "      <td>0.599078</td>\n",
       "    </tr>\n",
       "  </tbody>\n",
       "</table>\n",
       "<p>5 rows × 887 columns</p>\n",
       "</div>"
      ],
      "text/plain": [
       "         0          1          2         3          4          5         6    \\\n",
       "0  10.177829  10.177829  10.177829  5.765479  10.177829  10.177829  4.982583   \n",
       "1  10.177829  10.177829  10.177829  5.765479  10.177829  10.177829  4.982583   \n",
       "2  10.177829  10.177829  10.177829  5.765479  10.177829  10.177829  4.982583   \n",
       "3  10.177829  10.177829  10.177829  5.765479  10.177829  10.177829  4.982583   \n",
       "4  10.177829  10.177829  10.177829  5.765479  10.177829  10.177829  4.982583   \n",
       "\n",
       "        7         8         9      ...          877       878       879  \\\n",
       "0  7.986466  0.480342  2.385175    ...     0.002389  0.000000  0.014337   \n",
       "1  7.986466  0.480342  2.385175    ...     0.013605  0.005102  0.040816   \n",
       "2  7.986466  0.480342  2.385175    ...     0.009097  0.004392  0.029676   \n",
       "3  7.986466  0.480342  2.385175    ...     0.037037  0.017315  0.034907   \n",
       "4  7.986466  0.480342  2.385175    ...     0.005093  0.004167  0.021296   \n",
       "\n",
       "        880       881       882       883       884       885       886  \n",
       "0  0.043203  0.202189  0.304724  0.630184  0.548963  0.638825  0.599078  \n",
       "1  0.043203  0.202189  0.304724  0.630184  0.548963  0.638825  0.599078  \n",
       "2  0.043203  0.202189  0.304724  0.630184  0.548963  0.638825  0.599078  \n",
       "3  0.043203  0.202189  0.304724  0.630184  0.548963  0.638825  0.599078  \n",
       "4  0.043203  0.202189  0.304724  0.630184  0.548963  0.638825  0.599078  \n",
       "\n",
       "[5 rows x 887 columns]"
      ]
     },
     "execution_count": 8,
     "metadata": {},
     "output_type": "execute_result"
    }
   ],
   "source": [
    "test_df.head()"
   ]
  },
  {
   "cell_type": "code",
   "execution_count": 9,
   "metadata": {},
   "outputs": [
    {
     "name": "stderr",
     "output_type": "stream",
     "text": [
      "C:\\Users\\arpit\\Anaconda2\\lib\\site-packages\\sklearn\\cross_validation.py:41: DeprecationWarning: This module was deprecated in version 0.18 in favor of the model_selection module into which all the refactored classes and functions are moved. Also note that the interface of the new CV iterators are different from that of this module. This module will be removed in 0.20.\n",
      "  \"This module will be removed in 0.20.\", DeprecationWarning)\n"
     ]
    }
   ],
   "source": [
    "#split the training set into training and testing for cross validation\n",
    "from sklearn.cross_validation import train_test_split\n",
    "X_train, X_test, y_train, y_test = train_test_split(\n",
    "    train, y, test_size=0.35)"
   ]
  },
  {
   "cell_type": "code",
   "execution_count": 10,
   "metadata": {},
   "outputs": [
    {
     "data": {
      "text/plain": [
       "PCA(copy=True, iterated_power='auto', n_components=30, random_state=None,\n",
       "  svd_solver='auto', tol=0.0, whiten=True)"
      ]
     },
     "execution_count": 10,
     "metadata": {},
     "output_type": "execute_result"
    }
   ],
   "source": [
    "from sklearn import decomposition\n",
    "pca = decomposition.PCA(n_components = 30, whiten = True)\n",
    "pca.fit(train)\n",
    "\n"
   ]
  },
  {
   "cell_type": "code",
   "execution_count": 11,
   "metadata": {},
   "outputs": [
    {
     "name": "stdout",
     "output_type": "stream",
     "text": [
      "[  5.80316720e-02   3.24478973e-02   1.76070954e-02   1.44629138e-02\n",
      "   7.13104975e-03   5.53938635e-03   3.51868271e-03   1.90087644e-03\n",
      "   1.48871682e-03   1.40143710e-03   7.21680641e-04   5.74382299e-04\n",
      "   4.62547479e-04   4.25054398e-04   2.90621652e-04   2.60850287e-04\n",
      "   2.08284200e-04   1.48399236e-04   1.35426121e-04   1.00596317e-04\n",
      "   9.32944164e-05   8.15273170e-05   7.07155721e-05   5.64429017e-05\n",
      "   5.35524691e-05   4.24093044e-05   3.52246184e-05   3.12670362e-05\n",
      "   1.61019231e-05   1.07948214e-05]\n"
     ]
    }
   ],
   "source": [
    "print(pca.explained_variance_) "
   ]
  },
  {
   "cell_type": "code",
   "execution_count": 12,
   "metadata": {
    "collapsed": true
   },
   "outputs": [],
   "source": [
    "X_train_pca = pca.transform(train)\n",
    "X_test_pca = pca.transform(test)\n",
    "cv_train_pca = pca.transform(X_train)\n",
    "cv_test_pca = pca.transform(X_test)"
   ]
  },
  {
   "cell_type": "code",
   "execution_count": 13,
   "metadata": {},
   "outputs": [
    {
     "name": "stdout",
     "output_type": "stream",
     "text": [
      "[[-0.55727167 -0.30709517  0.08060831 ...,  0.0684824  -0.02185069\n",
      "   1.64804192]\n",
      " [-0.7877529   1.64680069  1.05832377 ...,  1.33910179 -0.59072316\n",
      "   1.18956061]\n",
      " [ 2.55142987 -1.02998372 -1.55381336 ...,  1.92563025  2.43269379\n",
      "  -0.21823101]\n",
      " ..., \n",
      " [ 0.79831859 -1.91515615 -1.00968706 ..., -1.66533904 -0.5421631\n",
      "   1.49046765]\n",
      " [ 2.3843241  -0.73763075 -1.78269797 ..., -0.06739062  2.72800424\n",
      "   0.19608236]\n",
      " [ 0.36605669 -1.88207718 -0.7473114  ..., -0.3609325   0.07020947\n",
      "  -0.81739632]]\n"
     ]
    }
   ],
   "source": [
    "print X_train_pca"
   ]
  },
  {
   "cell_type": "code",
   "execution_count": 19,
   "metadata": {},
   "outputs": [
    {
     "data": {
      "text/plain": [
       "KNeighborsClassifier(algorithm='auto', leaf_size=30, metric='minkowski',\n",
       "           metric_params=None, n_jobs=1, n_neighbors=10, p=1,\n",
       "           weights='distance')"
      ]
     },
     "execution_count": 19,
     "metadata": {},
     "output_type": "execute_result"
    }
   ],
   "source": [
    "from sklearn.neighbors import KNeighborsClassifier\n",
    "clf = KNeighborsClassifier(n_neighbors = 10, weights = 'distance', p = 1)\n",
    "clf.fit(X_train_pca, y)\n",
    "clf_cv = KNeighborsClassifier(n_neighbors = 10, weights = 'distance', p = 1)\n",
    "clf_cv.fit(cv_train_pca, y_train)\n"
   ]
  },
  {
   "cell_type": "code",
   "execution_count": 20,
   "metadata": {},
   "outputs": [
    {
     "name": "stdout",
     "output_type": "stream",
     "text": [
      "[ 1.  2.  2. ...,  2.  1.  2.]\n"
     ]
    }
   ],
   "source": [
    "pred = clf.predict(X_test_pca)\n",
    "print pred"
   ]
  },
  {
   "cell_type": "code",
   "execution_count": 21,
   "metadata": {},
   "outputs": [
    {
     "name": "stdout",
     "output_type": "stream",
     "text": [
      "[ 2.  1.  1. ...,  2.  2.  2.]\n"
     ]
    }
   ],
   "source": [
    "pred_cv = clf_cv.predict(cv_test_pca)\n",
    "print pred_cv"
   ]
  },
  {
   "cell_type": "code",
   "execution_count": 22,
   "metadata": {},
   "outputs": [
    {
     "name": "stdout",
     "output_type": "stream",
     "text": [
      "Accuracy: 69.1%\n"
     ]
    }
   ],
   "source": [
    "from sklearn.metrics import f1_score\n",
    "\n",
    "print(\"Accuracy: {0:0.1f}%\".format(f1_score(y_test,pred_cv, average = 'weighted')*100))"
   ]
  },
  {
   "cell_type": "code",
   "execution_count": 23,
   "metadata": {
    "collapsed": true
   },
   "outputs": [],
   "source": [
    "np.savetxt('result.dat', pred, fmt = \"%d\")"
   ]
  },
  {
   "cell_type": "code",
   "execution_count": null,
   "metadata": {
    "collapsed": true
   },
   "outputs": [],
   "source": []
  }
 ],
 "metadata": {
  "kernelspec": {
   "display_name": "Python 2",
   "language": "python",
   "name": "python2"
  },
  "language_info": {
   "codemirror_mode": {
    "name": "ipython",
    "version": 2
   },
   "file_extension": ".py",
   "mimetype": "text/x-python",
   "name": "python",
   "nbconvert_exporter": "python",
   "pygments_lexer": "ipython2",
   "version": "2.7.14"
  }
 },
 "nbformat": 4,
 "nbformat_minor": 2
}
