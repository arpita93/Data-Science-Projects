{
 "cells": [
  {
   "cell_type": "code",
   "execution_count": 8,
   "metadata": {
    "collapsed": true
   },
   "outputs": [],
   "source": [
    "from alpha_vantage.timeseries import TimeSeries\n",
    "ts = TimeSeries(key='6CDWVWR6X1YXSXIC', output_format='pandas')"
   ]
  },
  {
   "cell_type": "code",
   "execution_count": 20,
   "metadata": {},
   "outputs": [],
   "source": [
    "data, meta_data = ts.get_daily(symbol='MSFT', outputsize='full')"
   ]
  },
  {
   "cell_type": "code",
   "execution_count": 21,
   "metadata": {},
   "outputs": [
    {
     "data": {
      "text/html": [
       "<div>\n",
       "<style scoped>\n",
       "    .dataframe tbody tr th:only-of-type {\n",
       "        vertical-align: middle;\n",
       "    }\n",
       "\n",
       "    .dataframe tbody tr th {\n",
       "        vertical-align: top;\n",
       "    }\n",
       "\n",
       "    .dataframe thead th {\n",
       "        text-align: right;\n",
       "    }\n",
       "</style>\n",
       "<table border=\"1\" class=\"dataframe\">\n",
       "  <thead>\n",
       "    <tr style=\"text-align: right;\">\n",
       "      <th></th>\n",
       "      <th>1. open</th>\n",
       "      <th>2. high</th>\n",
       "      <th>3. low</th>\n",
       "      <th>4. close</th>\n",
       "      <th>5. volume</th>\n",
       "    </tr>\n",
       "    <tr>\n",
       "      <th>date</th>\n",
       "      <th></th>\n",
       "      <th></th>\n",
       "      <th></th>\n",
       "      <th></th>\n",
       "      <th></th>\n",
       "    </tr>\n",
       "  </thead>\n",
       "  <tbody>\n",
       "    <tr>\n",
       "      <th>1998-01-02</th>\n",
       "      <td>129.63</td>\n",
       "      <td>131.50</td>\n",
       "      <td>129.50</td>\n",
       "      <td>131.13</td>\n",
       "      <td>4968500.0</td>\n",
       "    </tr>\n",
       "    <tr>\n",
       "      <th>1998-01-05</th>\n",
       "      <td>131.25</td>\n",
       "      <td>133.63</td>\n",
       "      <td>127.87</td>\n",
       "      <td>130.38</td>\n",
       "      <td>10047200.0</td>\n",
       "    </tr>\n",
       "    <tr>\n",
       "      <th>1998-01-06</th>\n",
       "      <td>129.75</td>\n",
       "      <td>133.00</td>\n",
       "      <td>129.25</td>\n",
       "      <td>131.13</td>\n",
       "      <td>8479300.0</td>\n",
       "    </tr>\n",
       "    <tr>\n",
       "      <th>1998-01-07</th>\n",
       "      <td>129.88</td>\n",
       "      <td>131.19</td>\n",
       "      <td>127.50</td>\n",
       "      <td>129.56</td>\n",
       "      <td>7686600.0</td>\n",
       "    </tr>\n",
       "    <tr>\n",
       "      <th>1998-01-08</th>\n",
       "      <td>128.63</td>\n",
       "      <td>132.13</td>\n",
       "      <td>127.50</td>\n",
       "      <td>130.50</td>\n",
       "      <td>9702400.0</td>\n",
       "    </tr>\n",
       "  </tbody>\n",
       "</table>\n",
       "</div>"
      ],
      "text/plain": [
       "            1. open  2. high  3. low  4. close   5. volume\n",
       "date                                                      \n",
       "1998-01-02   129.63   131.50  129.50    131.13   4968500.0\n",
       "1998-01-05   131.25   133.63  127.87    130.38  10047200.0\n",
       "1998-01-06   129.75   133.00  129.25    131.13   8479300.0\n",
       "1998-01-07   129.88   131.19  127.50    129.56   7686600.0\n",
       "1998-01-08   128.63   132.13  127.50    130.50   9702400.0"
      ]
     },
     "execution_count": 21,
     "metadata": {},
     "output_type": "execute_result"
    }
   ],
   "source": [
    "data.head()"
   ]
  },
  {
   "cell_type": "code",
   "execution_count": 22,
   "metadata": {},
   "outputs": [
    {
     "data": {
      "text/plain": [
       "(5254, 5)"
      ]
     },
     "execution_count": 22,
     "metadata": {},
     "output_type": "execute_result"
    }
   ],
   "source": [
    "data.shape\n"
   ]
  },
  {
   "cell_type": "code",
   "execution_count": 27,
   "metadata": {},
   "outputs": [
    {
     "data": {
      "text/plain": [
       "['1. open', '2. high', '3. low', '4. close', '5. volume']"
      ]
     },
     "execution_count": 27,
     "metadata": {},
     "output_type": "execute_result"
    }
   ],
   "source": [
    "list(data)"
   ]
  },
  {
   "cell_type": "code",
   "execution_count": 29,
   "metadata": {},
   "outputs": [
    {
     "data": {
      "text/plain": [
       "Text(0.5,1,'MSFT chart')"
      ]
     },
     "execution_count": 29,
     "metadata": {},
     "output_type": "execute_result"
    },
    {
     "data": {
      "image/png": "[encoded data removed]",
      "text/plain": [
       "<Figure size 432x288 with 1 Axes>"
      ]
     },
     "metadata": {},
     "output_type": "display_data"
    }
   ],
   "source": [
    "data['4. close'].plot()\n",
    "plt.title('MSFT chart')"
   ]
  },
  {
   "cell_type": "code",
   "execution_count": 30,
   "metadata": {},
   "outputs": [
    {
     "data": {
      "text/html": [
       "<div>\n",
       "<style scoped>\n",
       "    .dataframe tbody tr th:only-of-type {\n",
       "        vertical-align: middle;\n",
       "    }\n",
       "\n",
       "    .dataframe tbody tr th {\n",
       "        vertical-align: top;\n",
       "    }\n",
       "\n",
       "    .dataframe thead th {\n",
       "        text-align: right;\n",
       "    }\n",
       "</style>\n",
       "<table border=\"1\" class=\"dataframe\">\n",
       "  <thead>\n",
       "    <tr style=\"text-align: right;\">\n",
       "      <th></th>\n",
       "      <th>1. open</th>\n",
       "      <th>2. high</th>\n",
       "      <th>3. low</th>\n",
       "      <th>4. close</th>\n",
       "      <th>5. volume</th>\n",
       "    </tr>\n",
       "  </thead>\n",
       "  <tbody>\n",
       "    <tr>\n",
       "      <th>count</th>\n",
       "      <td>5254.000000</td>\n",
       "      <td>5254.000000</td>\n",
       "      <td>5254.000000</td>\n",
       "      <td>5254.000000</td>\n",
       "      <td>5.254000e+03</td>\n",
       "    </tr>\n",
       "    <tr>\n",
       "      <th>mean</th>\n",
       "      <td>48.656655</td>\n",
       "      <td>49.254744</td>\n",
       "      <td>48.061616</td>\n",
       "      <td>48.670055</td>\n",
       "      <td>4.755021e+07</td>\n",
       "    </tr>\n",
       "    <tr>\n",
       "      <th>std</th>\n",
       "      <td>29.157515</td>\n",
       "      <td>29.605741</td>\n",
       "      <td>28.688170</td>\n",
       "      <td>29.178588</td>\n",
       "      <td>2.889099e+07</td>\n",
       "    </tr>\n",
       "    <tr>\n",
       "      <th>min</th>\n",
       "      <td>15.200000</td>\n",
       "      <td>15.620000</td>\n",
       "      <td>14.870000</td>\n",
       "      <td>15.150000</td>\n",
       "      <td>3.458100e+06</td>\n",
       "    </tr>\n",
       "    <tr>\n",
       "      <th>25%</th>\n",
       "      <td>27.050000</td>\n",
       "      <td>27.272500</td>\n",
       "      <td>26.850000</td>\n",
       "      <td>27.070000</td>\n",
       "      <td>2.790108e+07</td>\n",
       "    </tr>\n",
       "    <tr>\n",
       "      <th>50%</th>\n",
       "      <td>34.500000</td>\n",
       "      <td>34.805000</td>\n",
       "      <td>34.120000</td>\n",
       "      <td>34.465000</td>\n",
       "      <td>4.279235e+07</td>\n",
       "    </tr>\n",
       "    <tr>\n",
       "      <th>75%</th>\n",
       "      <td>63.437500</td>\n",
       "      <td>64.120000</td>\n",
       "      <td>62.667500</td>\n",
       "      <td>63.380000</td>\n",
       "      <td>6.013320e+07</td>\n",
       "    </tr>\n",
       "    <tr>\n",
       "      <th>max</th>\n",
       "      <td>178.940000</td>\n",
       "      <td>180.380000</td>\n",
       "      <td>175.750000</td>\n",
       "      <td>179.940000</td>\n",
       "      <td>5.910522e+08</td>\n",
       "    </tr>\n",
       "  </tbody>\n",
       "</table>\n",
       "</div>"
      ],
      "text/plain": [
       "           1. open      2. high       3. low     4. close     5. volume\n",
       "count  5254.000000  5254.000000  5254.000000  5254.000000  5.254000e+03\n",
       "mean     48.656655    49.254744    48.061616    48.670055  4.755021e+07\n",
       "std      29.157515    29.605741    28.688170    29.178588  2.889099e+07\n",
       "min      15.200000    15.620000    14.870000    15.150000  3.458100e+06\n",
       "25%      27.050000    27.272500    26.850000    27.070000  2.790108e+07\n",
       "50%      34.500000    34.805000    34.120000    34.465000  4.279235e+07\n",
       "75%      63.437500    64.120000    62.667500    63.380000  6.013320e+07\n",
       "max     178.940000   180.380000   175.750000   179.940000  5.910522e+08"
      ]
     },
     "execution_count": 30,
     "metadata": {},
     "output_type": "execute_result"
    }
   ],
   "source": [
    "data.describe()"
   ]
  },
  {
   "cell_type": "code",
   "execution_count": 35,
   "metadata": {},
   "outputs": [],
   "source": [
    "import pandas as pd\n",
    "rm_20 = data['4. close'].rolling(window=20).mean()\n",
    "rm_100 = data['4. close'].rolling(window=100).mean()"
   ]
  },
  {
   "cell_type": "code",
   "execution_count": 41,
   "metadata": {},
   "outputs": [
    {
     "data": {
      "text/plain": [
       "date\n",
       "1998-01-02   NaN\n",
       "1998-01-05   NaN\n",
       "1998-01-06   NaN\n",
       "1998-01-07   NaN\n",
       "1998-01-08   NaN\n",
       "Name: 4. close, dtype: float64"
      ]
     },
     "execution_count": 41,
     "metadata": {},
     "output_type": "execute_result"
    }
   ],
   "source": [
    "rm_20.head()"
   ]
  },
  {
   "cell_type": "code",
   "execution_count": 43,
   "metadata": {},
   "outputs": [
    {
     "data": {
      "text/plain": [
       "date\n",
       "2018-11-09    107.9583\n",
       "2018-11-12    108.0156\n",
       "2018-11-13    108.0809\n",
       "2018-11-14    108.1467\n",
       "2018-11-15    108.2288\n",
       "Name: 4. close, dtype: float64"
      ]
     },
     "execution_count": 43,
     "metadata": {},
     "output_type": "execute_result"
    }
   ],
   "source": [
    "rm_100.tail()"
   ]
  },
  {
   "cell_type": "code",
   "execution_count": 45,
   "metadata": {},
   "outputs": [],
   "source": [
    "forecast_out = int(30)\n",
    "data['Prediction'] = data[['4. close']].shift(-forecast_out)"
   ]
  },
  {
   "cell_type": "code",
   "execution_count": 46,
   "metadata": {},
   "outputs": [
    {
     "data": {
      "text/html": [
       "<div>\n",
       "<style scoped>\n",
       "    .dataframe tbody tr th:only-of-type {\n",
       "        vertical-align: middle;\n",
       "    }\n",
       "\n",
       "    .dataframe tbody tr th {\n",
       "        vertical-align: top;\n",
       "    }\n",
       "\n",
       "    .dataframe thead th {\n",
       "        text-align: right;\n",
       "    }\n",
       "</style>\n",
       "<table border=\"1\" class=\"dataframe\">\n",
       "  <thead>\n",
       "    <tr style=\"text-align: right;\">\n",
       "      <th></th>\n",
       "      <th>1. open</th>\n",
       "      <th>2. high</th>\n",
       "      <th>3. low</th>\n",
       "      <th>4. close</th>\n",
       "      <th>5. volume</th>\n",
       "      <th>Prediction</th>\n",
       "    </tr>\n",
       "    <tr>\n",
       "      <th>date</th>\n",
       "      <th></th>\n",
       "      <th></th>\n",
       "      <th></th>\n",
       "      <th></th>\n",
       "      <th></th>\n",
       "      <th></th>\n",
       "    </tr>\n",
       "  </thead>\n",
       "  <tbody>\n",
       "    <tr>\n",
       "      <th>2018-11-09</th>\n",
       "      <td>110.85</td>\n",
       "      <td>111.45</td>\n",
       "      <td>108.7600</td>\n",
       "      <td>109.57</td>\n",
       "      <td>32039223.0</td>\n",
       "      <td>NaN</td>\n",
       "    </tr>\n",
       "    <tr>\n",
       "      <th>2018-11-12</th>\n",
       "      <td>109.42</td>\n",
       "      <td>109.96</td>\n",
       "      <td>106.1000</td>\n",
       "      <td>106.87</td>\n",
       "      <td>33621807.0</td>\n",
       "      <td>NaN</td>\n",
       "    </tr>\n",
       "    <tr>\n",
       "      <th>2018-11-13</th>\n",
       "      <td>107.55</td>\n",
       "      <td>108.74</td>\n",
       "      <td>106.6400</td>\n",
       "      <td>106.94</td>\n",
       "      <td>35374583.0</td>\n",
       "      <td>NaN</td>\n",
       "    </tr>\n",
       "    <tr>\n",
       "      <th>2018-11-14</th>\n",
       "      <td>108.10</td>\n",
       "      <td>108.26</td>\n",
       "      <td>104.4700</td>\n",
       "      <td>104.97</td>\n",
       "      <td>39451205.0</td>\n",
       "      <td>NaN</td>\n",
       "    </tr>\n",
       "    <tr>\n",
       "      <th>2018-11-15</th>\n",
       "      <td>104.99</td>\n",
       "      <td>107.32</td>\n",
       "      <td>103.9148</td>\n",
       "      <td>107.29</td>\n",
       "      <td>21073552.0</td>\n",
       "      <td>NaN</td>\n",
       "    </tr>\n",
       "  </tbody>\n",
       "</table>\n",
       "</div>"
      ],
      "text/plain": [
       "            1. open  2. high    3. low  4. close   5. volume  Prediction\n",
       "date                                                                    \n",
       "2018-11-09   110.85   111.45  108.7600    109.57  32039223.0         NaN\n",
       "2018-11-12   109.42   109.96  106.1000    106.87  33621807.0         NaN\n",
       "2018-11-13   107.55   108.74  106.6400    106.94  35374583.0         NaN\n",
       "2018-11-14   108.10   108.26  104.4700    104.97  39451205.0         NaN\n",
       "2018-11-15   104.99   107.32  103.9148    107.29  21073552.0         NaN"
      ]
     },
     "execution_count": 46,
     "metadata": {},
     "output_type": "execute_result"
    }
   ],
   "source": [
    "data.tail()"
   ]
  },
  {
   "cell_type": "code",
   "execution_count": 49,
   "metadata": {},
   "outputs": [
    {
     "name": "stderr",
     "output_type": "stream",
     "text": [
      "C:\\Users\\arpit\\Anaconda2\\envs\\py36new\\lib\\site-packages\\sklearn\\cross_validation.py:41: DeprecationWarning: This module was deprecated in version 0.18 in favor of the model_selection module into which all the refactored classes and functions are moved. Also note that the interface of the new CV iterators are different from that of this module. This module will be removed in 0.20.\n",
      "  \"This module will be removed in 0.20.\", DeprecationWarning)\n"
     ]
    }
   ],
   "source": [
    "import numpy as np\n",
    "from sklearn.linear_model import LinearRegression\n",
    "from sklearn import preprocessing, cross_validation, svm\n",
    "X = np.array(data.drop(['Prediction'], 1))\n",
    "X = preprocessing.scale(X)"
   ]
  },
  {
   "cell_type": "code",
   "execution_count": 50,
   "metadata": {
    "collapsed": true
   },
   "outputs": [],
   "source": [
    "X_forecast = X[-forecast_out:] # set X_forecast equal to last 30\n",
    "X = X[:-forecast_out] # remove last 30 from X"
   ]
  },
  {
   "cell_type": "code",
   "execution_count": 52,
   "metadata": {},
   "outputs": [],
   "source": [
    "y = np.array(data['Prediction'])\n",
    "y = y[:-forecast_out]"
   ]
  },
  {
   "cell_type": "code",
   "execution_count": 53,
   "metadata": {
    "collapsed": true
   },
   "outputs": [],
   "source": [
    "X_train, X_test, y_train, y_test = cross_validation.train_test_split(X, y, test_size = 0.2)"
   ]
  },
  {
   "cell_type": "code",
   "execution_count": 54,
   "metadata": {},
   "outputs": [
    {
     "name": "stdout",
     "output_type": "stream",
     "text": [
      "confidence:  0.9069323534016295\n"
     ]
    }
   ],
   "source": [
    "# Training\n",
    "clf = LinearRegression()\n",
    "clf.fit(X_train,y_train)\n",
    "# Testing\n",
    "confidence = clf.score(X_test, y_test)\n",
    "print(\"confidence: \", confidence)"
   ]
  },
  {
   "cell_type": "code",
   "execution_count": 55,
   "metadata": {},
   "outputs": [
    {
     "name": "stdout",
     "output_type": "stream",
     "text": [
      "[104.50864644 103.32295323 105.64046672 101.91366543 100.75753174\n",
      " 102.03356931 101.90115353 103.27628857 103.4748766  102.67108667\n",
      " 104.23711391 102.93293384  99.02672631  98.58106548 100.27186137\n",
      " 100.27290843  98.21234914  92.88714292 100.53276779 100.01651893\n",
      "  99.42341179 100.33985647 101.66351068 103.84332057 104.44767624\n",
      " 103.49861667 102.00912861 101.88272537 100.1858711   99.27779217]\n"
     ]
    }
   ],
   "source": [
    "forecast_prediction = clf.predict(X_forecast)\n",
    "print(forecast_prediction)"
   ]
  },
  {
   "cell_type": "code",
   "execution_count": null,
   "metadata": {
    "collapsed": true
   },
   "outputs": [],
   "source": []
  }
 ],
 "metadata": {
  "kernelspec": {
   "display_name": "py36new",
   "language": "python",
   "name": "py36new"
  },
  "language_info": {
   "codemirror_mode": {
    "name": "ipython",
    "version": 3
   },
   "file_extension": ".py",
   "mimetype": "text/x-python",
   "name": "python",
   "nbconvert_exporter": "python",
   "pygments_lexer": "ipython3",
   "version": "3.6.5"
  }
 },
 "nbformat": 4,
 "nbformat_minor": 2
}
