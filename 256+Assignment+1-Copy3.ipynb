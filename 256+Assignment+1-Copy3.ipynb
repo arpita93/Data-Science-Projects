{
 "cells": [
  {
   "cell_type": "code",
   "execution_count": 1,
   "metadata": {
    "collapsed": true
   },
   "outputs": [],
   "source": [
    "import numpy as np\n",
    "import pandas as pd\n",
    "import seaborn as sns\n",
    "import matplotlib.pyplot as plt\n",
    "import matplotlib.ticker as ticker\n",
    "from matplotlib.ticker import FuncFormatter\n",
    "%matplotlib inline\n",
    "from sklearn.linear_model import LinearRegression\n",
    "from sklearn.feature_selection import SelectKBest\n",
    "from sklearn.feature_selection import f_regression\n",
    "from sklearn import preprocessing\n",
    "from sklearn.metrics import mean_squared_error, r2_score\n",
    "#from sklearn.preprocessing import LabelEncoder\n",
    "#from sklearn.metrics import mean_squared_error"
   ]
  },
  {
   "cell_type": "code",
   "execution_count": 2,
   "metadata": {
    "collapsed": true
   },
   "outputs": [],
   "source": [
    "#load data\n",
    "train = pd.read_csv('train.csv')\n",
    "test = pd.read_csv('test.csv')"
   ]
  },
  {
   "cell_type": "code",
   "execution_count": 3,
   "metadata": {},
   "outputs": [
    {
     "data": {
      "text/html": [
       "<div>\n",
       "<style>\n",
       "    .dataframe thead tr:only-child th {\n",
       "        text-align: right;\n",
       "    }\n",
       "\n",
       "    .dataframe thead th {\n",
       "        text-align: left;\n",
       "    }\n",
       "\n",
       "    .dataframe tbody tr th {\n",
       "        vertical-align: top;\n",
       "    }\n",
       "</style>\n",
       "<table border=\"1\" class=\"dataframe\">\n",
       "  <thead>\n",
       "    <tr style=\"text-align: right;\">\n",
       "      <th></th>\n",
       "      <th>id</th>\n",
       "      <th>worker_group_code</th>\n",
       "      <th>worker_group_name</th>\n",
       "      <th>department_code</th>\n",
       "      <th>department_name</th>\n",
       "      <th>union_code</th>\n",
       "      <th>union_name</th>\n",
       "      <th>job_group_code</th>\n",
       "      <th>job_group</th>\n",
       "      <th>job_code</th>\n",
       "      <th>job</th>\n",
       "      <th>salary</th>\n",
       "    </tr>\n",
       "  </thead>\n",
       "  <tbody>\n",
       "    <tr>\n",
       "      <th>0</th>\n",
       "      <td>1</td>\n",
       "      <td>4</td>\n",
       "      <td>Community Health</td>\n",
       "      <td>DPH</td>\n",
       "      <td>DPH Public Health</td>\n",
       "      <td>791.0</td>\n",
       "      <td>SEIU - Staff and Per Diem Nurses, Local 1021</td>\n",
       "      <td>2300</td>\n",
       "      <td>Nursing</td>\n",
       "      <td>2328</td>\n",
       "      <td>Nurse Practitioner</td>\n",
       "      <td>2139.13</td>\n",
       "    </tr>\n",
       "    <tr>\n",
       "      <th>1</th>\n",
       "      <td>2</td>\n",
       "      <td>2</td>\n",
       "      <td>Public Works, Transportation &amp; Commerce</td>\n",
       "      <td>DPW</td>\n",
       "      <td>DPW GSA - Public Works</td>\n",
       "      <td>21.0</td>\n",
       "      <td>Prof &amp; Tech Engineers - Miscellaneous, Local 21</td>\n",
       "      <td>5300</td>\n",
       "      <td>Sub-Professional Engineering</td>\n",
       "      <td>5380</td>\n",
       "      <td>Stdntdsgntrain1, Arch/Eng/Plng</td>\n",
       "      <td>8769.90</td>\n",
       "    </tr>\n",
       "    <tr>\n",
       "      <th>2</th>\n",
       "      <td>3</td>\n",
       "      <td>6</td>\n",
       "      <td>General Administration &amp; Finance</td>\n",
       "      <td>TIS</td>\n",
       "      <td>DT GSA - Technology</td>\n",
       "      <td>790.0</td>\n",
       "      <td>SEIU - Miscellaneous, Local 1021</td>\n",
       "      <td>1600</td>\n",
       "      <td>Payroll, Billing &amp; Accounting</td>\n",
       "      <td>1634</td>\n",
       "      <td>Principal Account Clerk</td>\n",
       "      <td>27267.91</td>\n",
       "    </tr>\n",
       "    <tr>\n",
       "      <th>3</th>\n",
       "      <td>4</td>\n",
       "      <td>4</td>\n",
       "      <td>Community Health</td>\n",
       "      <td>DPH</td>\n",
       "      <td>DPH Public Health</td>\n",
       "      <td>351.0</td>\n",
       "      <td>Municipal Executive Association - Miscellaneous</td>\n",
       "      <td>900</td>\n",
       "      <td>Management</td>\n",
       "      <td>2620</td>\n",
       "      <td>Food Service Mgr Administrator</td>\n",
       "      <td>396.58</td>\n",
       "    </tr>\n",
       "    <tr>\n",
       "      <th>4</th>\n",
       "      <td>5</td>\n",
       "      <td>2</td>\n",
       "      <td>Public Works, Transportation &amp; Commerce</td>\n",
       "      <td>DPW</td>\n",
       "      <td>DPW GSA - Public Works</td>\n",
       "      <td>21.0</td>\n",
       "      <td>Prof &amp; Tech Engineers - Miscellaneous, Local 21</td>\n",
       "      <td>6300</td>\n",
       "      <td>Construction Inspection</td>\n",
       "      <td>6318</td>\n",
       "      <td>Construction Inspector</td>\n",
       "      <td>27519.82</td>\n",
       "    </tr>\n",
       "  </tbody>\n",
       "</table>\n",
       "</div>"
      ],
      "text/plain": [
       "   id  worker_group_code                        worker_group_name  \\\n",
       "0   1                  4                         Community Health   \n",
       "1   2                  2  Public Works, Transportation & Commerce   \n",
       "2   3                  6         General Administration & Finance   \n",
       "3   4                  4                         Community Health   \n",
       "4   5                  2  Public Works, Transportation & Commerce   \n",
       "\n",
       "  department_code         department_name  union_code  \\\n",
       "0             DPH       DPH Public Health       791.0   \n",
       "1             DPW  DPW GSA - Public Works        21.0   \n",
       "2             TIS     DT GSA - Technology       790.0   \n",
       "3             DPH       DPH Public Health       351.0   \n",
       "4             DPW  DPW GSA - Public Works        21.0   \n",
       "\n",
       "                                        union_name job_group_code  \\\n",
       "0     SEIU - Staff and Per Diem Nurses, Local 1021           2300   \n",
       "1  Prof & Tech Engineers - Miscellaneous, Local 21           5300   \n",
       "2                 SEIU - Miscellaneous, Local 1021           1600   \n",
       "3  Municipal Executive Association - Miscellaneous            900   \n",
       "4  Prof & Tech Engineers - Miscellaneous, Local 21           6300   \n",
       "\n",
       "                       job_group job_code                             job  \\\n",
       "0                        Nursing     2328              Nurse Practitioner   \n",
       "1   Sub-Professional Engineering     5380  Stdntdsgntrain1, Arch/Eng/Plng   \n",
       "2  Payroll, Billing & Accounting     1634         Principal Account Clerk   \n",
       "3                     Management     2620  Food Service Mgr Administrator   \n",
       "4        Construction Inspection     6318          Construction Inspector   \n",
       "\n",
       "     salary  \n",
       "0   2139.13  \n",
       "1   8769.90  \n",
       "2  27267.91  \n",
       "3    396.58  \n",
       "4  27519.82  "
      ]
     },
     "execution_count": 3,
     "metadata": {},
     "output_type": "execute_result"
    }
   ],
   "source": [
    "#exploring data\n",
    "train.head()"
   ]
  },
  {
   "cell_type": "code",
   "execution_count": 4,
   "metadata": {},
   "outputs": [
    {
     "data": {
      "text/plain": [
       "id                     int64\n",
       "worker_group_code      int64\n",
       "worker_group_name     object\n",
       "department_code       object\n",
       "department_name       object\n",
       "union_code           float64\n",
       "union_name            object\n",
       "job_group_code        object\n",
       "job_group             object\n",
       "job_code              object\n",
       "job                   object\n",
       "salary               float64\n",
       "dtype: object"
      ]
     },
     "execution_count": 4,
     "metadata": {},
     "output_type": "execute_result"
    }
   ],
   "source": [
    "train.dtypes"
   ]
  },
  {
   "cell_type": "code",
   "execution_count": 5,
   "metadata": {
    "collapsed": true
   },
   "outputs": [],
   "source": [
    "#converting the object datatypes to numerical as the model takes only numerical \n",
    "#train dataset\n",
    "train['job_group_code'] = pd.to_numeric(train['job_group_code'], errors='coerce')\n",
    "train['job_code'] = pd.to_numeric(train['job_code'], errors = 'coerce')\n",
    "\n",
    "#test dataset\n",
    "test['job_group_code'] = pd.to_numeric(test['job_group_code'], errors='coerce')\n",
    "test['job_code'] = pd.to_numeric(test['job_code'], errors = 'coerce')\n",
    "\n"
   ]
  },
  {
   "cell_type": "code",
   "execution_count": 6,
   "metadata": {
    "collapsed": true
   },
   "outputs": [],
   "source": [
    "#fill the NaN with 0s\n",
    "#train dataset\n",
    "train['job_group_code'].fillna(0, inplace = True) \n",
    "train['job_code'].fillna(0, inplace = True)\n",
    "train['union_code'].fillna(0, inplace = True)\n",
    "train['salary'].fillna(0, inplace = True)\n",
    "#test dataset\n",
    "test['job_group_code'].fillna(0, inplace = True) \n",
    "test['job_code'].fillna(0, inplace = True)\n",
    "test['union_code'].fillna(0, inplace = True)\n"
   ]
  },
  {
   "cell_type": "code",
   "execution_count": 7,
   "metadata": {
    "collapsed": true
   },
   "outputs": [],
   "source": [
    "#encoding the department_code \n",
    "dept_mapping = {'AAM': 1, 'ADM': 2, 'ADP': 3, 'AIR': 4, 'ART': 5, 'ASR': 6, 'BOS': 7, 'CAT': 8, 'CFC': 9, 'CHF': 10,\n",
    "          'CLP': 11, 'CON': 12, 'CPC': 13, 'CRT': 14, 'CSC': 15, 'CSS': 16, 'CWP': 17, 'DAT': 18, 'DBI': 19, \n",
    "         'DPH': 20, 'DPW': 21, 'DSS': 22, 'ECD': 23, 'ECN': 24, 'ENV': 25, 'ETH': 26, 'FAM': 27, 'FIR': 28, 'HHP': 29, \n",
    "          'HOM': 30, 'HRC': 31, 'HRD': 32, 'HSS': 33, 'JUV': 34, 'LIB': 35, 'LLB': 36, 'MTA': 37, 'MYR' : 38, 'PAB': 39, \n",
    "         'PDR' : 40, 'POL': 41, 'PRT': 42, 'PUC': 43, 'REC': 44, 'REG' : 45, 'RET': 46, 'RNT': 47, 'SCI': 48, 'SHF': 49, \n",
    "         'TIS': 50, 'TTX': 51, 'UNA': 52, 'WAR': 53, 'WOM': 54, 'WTR': 55}\n",
    "train.replace({'department_code': dept_mapping}, inplace = True)\n"
   ]
  },
  {
   "cell_type": "code",
   "execution_count": 8,
   "metadata": {
    "collapsed": true
   },
   "outputs": [],
   "source": [
    "features = ['worker_group_code', 'department_code', 'union_code', 'job_group_code', 'job_code']\n",
    "target = ['salary']\n",
    "X_train = train[features]\n",
    "Y_train = train[target]\n",
    "X_test = test[features]"
   ]
  },
  {
   "cell_type": "code",
   "execution_count": 9,
   "metadata": {},
   "outputs": [
    {
     "name": "stdout",
     "output_type": "stream",
     "text": [
      "[ 1103.96183707    30.35356493   314.809997     867.13657923   678.56080443]\n"
     ]
    },
    {
     "name": "stderr",
     "output_type": "stream",
     "text": [
      "C:\\Users\\arpit\\Anaconda2\\lib\\site-packages\\sklearn\\utils\\validation.py:578: DataConversionWarning: A column-vector y was passed when a 1d array was expected. Please change the shape of y to (n_samples, ), for example using ravel().\n",
      "  y = column_or_1d(y, warn=True)\n"
     ]
    }
   ],
   "source": [
    "#feature selection\n",
    "fsel = SelectKBest(score_func=f_regression, k=1)\n",
    "fit = fsel.fit(X_train, Y_train)\n",
    "print(fit.scores_)"
   ]
  },
  {
   "cell_type": "code",
   "execution_count": 10,
   "metadata": {},
   "outputs": [],
   "source": [
    "#dummy encoding on the feature with the highest score\n",
    "dummy1_train = pd.get_dummies(X_train['worker_group_code'], prefix = 'worker_group')\n",
    "dummy1_test = pd.get_dummies(X_test['worker_group_code'], prefix = 'worker_group')\n",
    "\n",
    "#drop the unnecessary features\n",
    "dummy1_train = dummy1_train.drop('worker_group_7', 1)\n",
    "dummy1_train = dummy1_train.drop('worker_group_6', 1)\n",
    "dummy1_train = dummy1_train.drop('worker_group_5', 1)\n",
    "dummy1_train = dummy1_train.drop('worker_group_4', 1)\n",
    "dummy1_train = dummy1_train.drop('worker_group_3', 1)\n",
    "\n",
    "dummy1_test = dummy1_test.drop('worker_group_7', 1)\n",
    "dummy1_test = dummy1_test.drop('worker_group_6', 1)\n",
    "dummy1_test = dummy1_test.drop('worker_group_5', 1)\n",
    "dummy1_test = dummy1_test.drop('worker_group_4', 1)\n",
    "dummy1_test = dummy1_test.drop('worker_group_3', 1)\n",
    "\n"
   ]
  },
  {
   "cell_type": "code",
   "execution_count": 11,
   "metadata": {},
   "outputs": [
    {
     "data": {
      "text/plain": [
       "LinearRegression(copy_X=True, fit_intercept=False, n_jobs=1, normalize=True)"
      ]
     },
     "execution_count": 11,
     "metadata": {},
     "output_type": "execute_result"
    }
   ],
   "source": [
    "lr = LinearRegression(fit_intercept = False, normalize = True)\n",
    "lr.fit(dummy1_train, Y_train)"
   ]
  },
  {
   "cell_type": "code",
   "execution_count": 12,
   "metadata": {},
   "outputs": [
    {
     "name": "stdout",
     "output_type": "stream",
     "text": [
      "[[ 88166.91090766]\n",
      " [ 88166.91090766]\n",
      " [ 67637.13115348]\n",
      " ..., \n",
      " [     0.        ]\n",
      " [ 67637.13115348]\n",
      " [ 67637.13115348]]\n"
     ]
    }
   ],
   "source": [
    "test_predict = lr.predict(dummy1_test)\n",
    "print(test_predict)"
   ]
  },
  {
   "cell_type": "code",
   "execution_count": 13,
   "metadata": {},
   "outputs": [
    {
     "data": {
      "text/plain": [
       "-0.69365141416097464"
      ]
     },
     "execution_count": 13,
     "metadata": {},
     "output_type": "execute_result"
    }
   ],
   "source": [
    "lr.score(dummy1_train, Y_train)"
   ]
  },
  {
   "cell_type": "code",
   "execution_count": 14,
   "metadata": {},
   "outputs": [
    {
     "name": "stdout",
     "output_type": "stream",
     "text": [
      "[[ 88166.91090766  67637.13115348]]\n"
     ]
    }
   ],
   "source": [
    "print(lr.coef_)"
   ]
  },
  {
   "cell_type": "code",
   "execution_count": 16,
   "metadata": {},
   "outputs": [
    {
     "data": {
      "text/plain": [
       "1.0"
      ]
     },
     "execution_count": 16,
     "metadata": {},
     "output_type": "execute_result"
    }
   ],
   "source": [
    "lr.score(dummy1_test, test_predict)"
   ]
  },
  {
   "cell_type": "code",
   "execution_count": null,
   "metadata": {
    "collapsed": true
   },
   "outputs": [],
   "source": [
    "prediction=pd.DataFrame(test_predict, columns=['pred']) \n",
    "result = pd.DataFrame({'id': test['id'], 'salary': prediction['pred']})\n",
    "result.to_csv('result.csv', index = False)"
   ]
  },
  {
   "cell_type": "code",
   "execution_count": null,
   "metadata": {
    "collapsed": true
   },
   "outputs": [],
   "source": []
  }
 ],
 "metadata": {
  "kernelspec": {
   "display_name": "Python 2",
   "language": "python",
   "name": "python2"
  },
  "language_info": {
   "codemirror_mode": {
    "name": "ipython",
    "version": 2
   },
   "file_extension": ".py",
   "mimetype": "text/x-python",
   "name": "python",
   "nbconvert_exporter": "python",
   "pygments_lexer": "ipython2",
   "version": "2.7.14"
  }
 },
 "nbformat": 4,
 "nbformat_minor": 2
}
